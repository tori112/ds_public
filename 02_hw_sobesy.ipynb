{
 "cells": [
  {
   "cell_type": "markdown",
   "metadata": {},
   "source": [
    "## Задание №1"
   ]
  },
  {
   "cell_type": "code",
   "execution_count": 57,
   "metadata": {},
   "outputs": [
    {
     "name": "stdout",
     "output_type": "stream",
     "text": [
      "Некорректный ввод\n"
     ]
    }
   ],
   "source": [
    "def pure_intersection():\n",
    "    # Получение строковых данных с клавиатуры\n",
    "    input_string_a = input('Введите 1-ую последовательность идентификаторов: ')\n",
    "    input_string_b = input('Введите 2-ую последовательность идентификаторов: ')\n",
    "    \n",
    "    # функция для определения пересечения корректно работает для любого ввода пользователя, обозначенного в условиях задачи\n",
    "    try:\n",
    "    # ввод пользователя конвертируется в список из идентификаторов\n",
    "        str_to_list_a = [int(i) for i in input_string_a.split(', ')]\n",
    "        str_to_list_b = [int(i) for i in input_string_b.split(', ')]\n",
    "        return list(set(str_to_list_a).intersection(set(str_to_list_b)))\n",
    "    except ValueError:\n",
    "        print(f'Некорректный ввод')  \n",
    "\n",
    "pure_intersection()"
   ]
  },
  {
   "cell_type": "markdown",
   "metadata": {},
   "source": [
    "## Задание №2"
   ]
  },
  {
   "cell_type": "code",
   "execution_count": 60,
   "metadata": {},
   "outputs": [
    {
     "name": "stdout",
     "output_type": "stream",
     "text": [
      "Minimum: 1\n",
      "Maximum: 6\n"
     ]
    }
   ],
   "source": [
    "def find_min_max():\n",
    "    # Получение строковых данных с клавиатуры\n",
    "    raw_string = input('Введите последовательность чисел: ')\n",
    "    \n",
    "    # Разделение строки на отдельные значения и преобразование их в числа\n",
    "    raw_list = raw_string.replace(',', '.').split(' ')\n",
    "    \n",
    "    # Оставляем из сырого списка только те значения, что являются числами и приводим их к типу float или int\n",
    "    converted_list = []\n",
    "    for value in raw_list:\n",
    "        # Пропускаем любые элементы списка, что нельзя конвертнуть в инт или флоат без выпадения в exception\n",
    "        if not value.isalpha():\n",
    "            try:\n",
    "                converted_value = int(float(value))\n",
    "                if float(value).is_integer():\n",
    "                    converted_list.append(converted_value)\n",
    "                else:\n",
    "                    converted_list.append(float(value))\n",
    "            except ValueError:\n",
    "                pass\n",
    "    \n",
    "    # Нахождение минимального и максимального значений в списке\n",
    "    converted_values_min = min(converted_list)\n",
    "    converted_values_max = max(converted_list)\n",
    "    \n",
    "    # Вывод результатов\n",
    "    print(f'Minimum: {converted_values_min}', end='\\n')\n",
    "    print(f'Maximum: {converted_values_max}')\n",
    "\n",
    "find_min_max()"
   ]
  },
  {
   "cell_type": "markdown",
   "metadata": {},
   "source": [
    "## Задание №3"
   ]
  },
  {
   "cell_type": "code",
   "execution_count": 69,
   "metadata": {},
   "outputs": [
    {
     "name": "stdout",
     "output_type": "stream",
     "text": [
      "Median: 4.5\n"
     ]
    }
   ],
   "source": [
    "def find_median():\n",
    "    try:\n",
    "        # Получение строковых данных с клавиатуры\n",
    "        raw_string = input('Введите последовательность чисел: ')\n",
    "        # print(raw_string)\n",
    "        \n",
    "        # Разделение строки на отдельные значения и преобразование их в числа\n",
    "        raw_list = raw_string.split(', ')\n",
    "        # print(raw_list)\n",
    "        \n",
    "        # Собираем список из действительных чисел, приводя к интам и флоатам где нужно\n",
    "        converted_list = [int(float(value)) if float(value).is_integer() else float(value) for value in raw_list]\n",
    "        # print(converted_list) \n",
    "                 \n",
    "        #  Сортируем по возрастанию \n",
    "        sorted_list = sorted(converted_list)\n",
    "        # print(sorted_list)\n",
    "        \n",
    "        if len(sorted_list) == 0:\n",
    "            raise ValueError('Некорректный ввод')\n",
    "        \n",
    "        if int(len(sorted_list) % 2) == 0:\n",
    "            idx_1 = int(len(sorted_list) / 2) - 1\n",
    "            idx_2 = int(len(sorted_list) / 2)\n",
    "            median = (sorted_list[idx_1] + sorted_list[idx_2]) / 2\n",
    "            print(f'Median: {median}')\n",
    "        else:\n",
    "            idx_med = int(len(sorted_list) / 2)\n",
    "            median = sorted_list[idx_med]\n",
    "            print(f'Median: {median}')\n",
    "    except ValueError:\n",
    "        print('Некорректный ввод')\n",
    "\n",
    "find_median()"
   ]
  },
  {
   "cell_type": "markdown",
   "metadata": {},
   "source": [
    "## Задание №4"
   ]
  },
  {
   "cell_type": "code",
   "execution_count": 29,
   "metadata": {},
   "outputs": [
    {
     "data": {
      "text/plain": [
       "783919"
      ]
     },
     "execution_count": 29,
     "metadata": {},
     "output_type": "execute_result"
    }
   ],
   "source": [
    "def transform_string_to_integer():\n",
    "    # Словарь, содержащий соответствие между числами на русском языке и их целыми числами эквивалентами\n",
    "    number_word_dict = {\n",
    "        \"ты\": 1000, \"м\": 1000000,\n",
    "        \"сто\": 100, \"двес\": 200, \"трис\": 300, \"четырес\": 400, \"пятьс\": 500, \"шестьс\": 600, \"семьс\": 700, \"восемьс\": 800, \"девятьс\": 900,\n",
    "        \"одинн\": 11, \"двен\": 12, \"трин\": 13, \"четырн\": 14, \"пятн\": 15, \"шестн\": 16, \"семн\": 17, \"восемн\": 18, \"девятн\": 19,\n",
    "        \"двад\": 20, \"трид\": 30, \"сор\": 40, \"пятьд\": 50, \"шестьд\": 60, \"семьд\": 70, \"восемьд\": 80, \"девяно\": 90,\n",
    "        \"дес\": 10, \"н\": 0, \"о\": 1, \"дв\": 2, \"т\": 3, \"ч\": 4, \"п\": 5, \"ш\": 6, \"с\": 7, \"в\": 8, \"д\": 9, }\n",
    "    \n",
    "    # Получаем ввод от пользователя\n",
    "    raw_input = input('Введите число словами: ')\n",
    "\n",
    "    # Разбиваем ввод на слова\n",
    "    raw_list = raw_input.split(' ')\n",
    "    \n",
    "    # Создаем словарь для хранения преобразованных чисел\n",
    "    converted_dict = {}\n",
    "    \n",
    "    # Перебираем каждое слово в вводе\n",
    "    for word in raw_list:\n",
    "        # Ищем соответствие в словаре number_word_dict\n",
    "        for k, v in number_word_dict.items():\n",
    "            if word.startswith(k):\n",
    "                # Добавляем соответствие в converted_dict\n",
    "                converted_dict[k] = v\n",
    "                break\n",
    "            \n",
    "    # Инициализируем переменную final_number\n",
    "    final_number = 0\n",
    "    \n",
    "    # Перебираем каждое соответствие в converted_dict\n",
    "    for k, v in converted_dict.items():\n",
    "        # Если значение равно 1000, умножаем final_number на 1000\n",
    "        if v == 1000:\n",
    "            final_number *= 1000\n",
    "        # В противном случае, добавляем значение к final_number\n",
    "        else:\n",
    "            final_number += v\n",
    "    \n",
    "    # Возвращаем final_number\n",
    "    return final_number\n",
    "\n",
    "# Вызываем функцию transform_string_to_integer\n",
    "transform_string_to_integer()"
   ]
  },
  {
   "cell_type": "markdown",
   "metadata": {},
   "source": [
    "## Задание №5"
   ]
  },
  {
   "cell_type": "code",
   "execution_count": 50,
   "metadata": {},
   "outputs": [
    {
     "data": {
      "text/plain": [
       "'22! = 2^19 * 3^9 * 5^4 * 7^3 * 11^2 * 13 * 17 * 19'"
      ]
     },
     "execution_count": 50,
     "metadata": {},
     "output_type": "execute_result"
    }
   ],
   "source": [
    "from math import factorial\n",
    "\n",
    "def decompose_factorial(calculated_factorial):\n",
    "    # Инициализируем пустую строку для хранения разложения n!\n",
    "    result_string = f'{calculated_factorial}! = '\n",
    "    \n",
    "    # Преобразуем n в целое число\n",
    "    digit_to_integer = int(calculated_factorial)\n",
    "    \n",
    "    # Вычисляем n!\n",
    "    calculated_factorial = factorial(digit_to_integer)\n",
    "    \n",
    "    # Инициализируем пустой список для хранения простых множителей n\n",
    "    primes_list = []\n",
    "    \n",
    "    # Начинаем с наименьшего возможного простого числа\n",
    "    first_step = 2\n",
    "    \n",
    "    # Делим n! на наименьший возможный простой множитель, пока n! не станет равным 1\n",
    "    while first_step * first_step <= calculated_factorial:\n",
    "        if calculated_factorial % first_step == 0:\n",
    "            primes_list.append(first_step)\n",
    "            calculated_factorial //= first_step\n",
    "        else:\n",
    "            first_step += 1\n",
    "    \n",
    "    # Если n! больше 1, оно является простым числом\n",
    "    if calculated_factorial > 1:\n",
    "        primes_list.append(calculated_factorial)\n",
    "    \n",
    "    # Инициализируем пустой словарь для хранения количества каждого простого множителя\n",
    "    numbers_dict = {}\n",
    "    \n",
    "    # Подсчитываем количество повторений каждого простого множителя\n",
    "    for i in primes_list:\n",
    "        if i in numbers_dict.keys():\n",
    "            numbers_dict[i] += 1\n",
    "        else:\n",
    "            numbers_dict[i] = 1\n",
    "    \n",
    "    # Создаем строку разложения\n",
    "    for key, value in numbers_dict.items():\n",
    "        if value > 1:\n",
    "            result_string+= str(key) + '^' + str(value)\n",
    "        else:\n",
    "            result_string += str(key)\n",
    "        result_string+=' * '\n",
    "    \n",
    "    # Удаляем конечный ' * ' из строки разложения\n",
    "    result_string = result_string.rstrip(' * ')\n",
    "    \n",
    "    # Возвращаем строку разложения\n",
    "    return result_string\n",
    "\n",
    "decompose_factorial(22)"
   ]
  }
 ],
 "metadata": {
  "kernelspec": {
   "display_name": "base",
   "language": "python",
   "name": "python3"
  },
  "language_info": {
   "codemirror_mode": {
    "name": "ipython",
    "version": 3
   },
   "file_extension": ".py",
   "mimetype": "text/x-python",
   "name": "python",
   "nbconvert_exporter": "python",
   "pygments_lexer": "ipython3",
   "version": "3.10.9"
  }
 },
 "nbformat": 4,
 "nbformat_minor": 2
}
