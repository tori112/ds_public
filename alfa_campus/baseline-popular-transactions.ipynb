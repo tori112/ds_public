{
 "cells": [
  {
   "cell_type": "markdown",
   "id": "d1329e49",
   "metadata": {
    "papermill": {
     "duration": 0.029739,
     "end_time": "2022-04-29T11:28:37.621362",
     "exception": false,
     "start_time": "2022-04-29T11:28:37.591623",
     "status": "completed"
    },
    "tags": []
   },
   "source": [
    "## Библиотеки "
   ]
  },
  {
   "cell_type": "code",
   "execution_count": 1,
   "id": "6be49654",
   "metadata": {
    "execution": {
     "iopub.execute_input": "2022-04-29T11:28:37.679971Z",
     "iopub.status.busy": "2022-04-29T11:28:37.679627Z",
     "iopub.status.idle": "2022-04-29T11:28:37.689378Z",
     "shell.execute_reply": "2022-04-29T11:28:37.688956Z"
    },
    "papermill": {
     "duration": 0.041016,
     "end_time": "2022-04-29T11:28:37.691385",
     "exception": false,
     "start_time": "2022-04-29T11:28:37.650369",
     "status": "completed"
    },
    "tags": []
   },
   "outputs": [],
   "source": [
    "import numpy as np\n",
    "import pandas as pd\n",
    "from collections import Counter\n",
    "\n",
    "import warnings\n",
    "warnings.filterwarnings(\"ignore\")"
   ]
  },
  {
   "cell_type": "markdown",
   "id": "7d386198",
   "metadata": {
    "papermill": {
     "duration": 0.028357,
     "end_time": "2022-04-29T11:28:37.748630",
     "exception": false,
     "start_time": "2022-04-29T11:28:37.720273",
     "status": "completed"
    },
    "tags": []
   },
   "source": [
    "## Функции"
   ]
  },
  {
   "cell_type": "code",
   "execution_count": 2,
   "id": "7c302d63",
   "metadata": {
    "execution": {
     "iopub.execute_input": "2022-04-29T11:28:37.805683Z",
     "iopub.status.busy": "2022-04-29T11:28:37.805234Z",
     "iopub.status.idle": "2022-04-29T11:28:37.810847Z",
     "shell.execute_reply": "2022-04-29T11:28:37.810357Z"
    },
    "papermill": {
     "duration": 0.035738,
     "end_time": "2022-04-29T11:28:37.812309",
     "exception": false,
     "start_time": "2022-04-29T11:28:37.776571",
     "status": "completed"
    },
    "tags": []
   },
   "outputs": [],
   "source": [
    "# https://github.com/benhamner/Metrics/blob/master/Python/ml_metrics/average_precision.py\n",
    "def apk(actual, predicted, k=10):\n",
    "    if len(predicted) > k:\n",
    "        predicted = predicted[:k]\n",
    "\n",
    "    score = 0.0\n",
    "    num_hits = 0.0\n",
    "\n",
    "    for i, p in enumerate(predicted):\n",
    "        if p in actual and p not in predicted[:i]:\n",
    "            num_hits += 1.0\n",
    "            score += num_hits / (i+1.0)\n",
    "\n",
    "    if not actual:\n",
    "        return 0.0\n",
    "\n",
    "    return score / min(len(actual), k)\n",
    "\n",
    "def mapk(actual, predicted, k=10):\n",
    "    return np.mean([apk(a, p, k) for a, p in zip(actual, predicted)])"
   ]
  },
  {
   "cell_type": "markdown",
   "id": "40450b3e",
   "metadata": {
    "papermill": {
     "duration": 0.027708,
     "end_time": "2022-04-29T11:28:37.868029",
     "exception": false,
     "start_time": "2022-04-29T11:28:37.840321",
     "status": "completed"
    },
    "tags": []
   },
   "source": [
    "## Получение данных"
   ]
  },
  {
   "cell_type": "code",
   "execution_count": 3,
   "id": "71188d58",
   "metadata": {
    "execution": {
     "iopub.execute_input": "2022-04-29T11:28:37.924512Z",
     "iopub.status.busy": "2022-04-29T11:28:37.924288Z",
     "iopub.status.idle": "2022-04-29T11:28:38.665074Z",
     "shell.execute_reply": "2022-04-29T11:28:38.664288Z"
    },
    "papermill": {
     "duration": 0.771348,
     "end_time": "2022-04-29T11:28:38.667125",
     "exception": false,
     "start_time": "2022-04-29T11:28:37.895777",
     "status": "completed"
    },
    "tags": []
   },
   "outputs": [],
   "source": [
    "#df_train = pd.read_csv('/kaggle/input/alfabankchallengedata/df_train.csv', sep=';')\n",
    "#df_test = pd.read_csv('/kaggle/input/alfabankchallengedata/df_test.csv', sep=';')"
   ]
  },
  {
   "cell_type": "code",
   "execution_count": 4,
   "id": "90009bc0",
   "metadata": {},
   "outputs": [],
   "source": [
    "df_train = pd.read_csv('data/df_train.csv', sep=';')\n",
    "df_test = pd.read_csv('data/df_test.csv', sep=';')"
   ]
  },
  {
   "cell_type": "code",
   "execution_count": 5,
   "id": "47e5a7c7",
   "metadata": {
    "execution": {
     "iopub.execute_input": "2022-04-29T11:28:38.726485Z",
     "iopub.status.busy": "2022-04-29T11:28:38.726243Z",
     "iopub.status.idle": "2022-04-29T11:28:40.492014Z",
     "shell.execute_reply": "2022-04-29T11:28:40.491327Z"
    },
    "papermill": {
     "duration": 1.797329,
     "end_time": "2022-04-29T11:28:40.494139",
     "exception": false,
     "start_time": "2022-04-29T11:28:38.696810",
     "status": "completed"
    },
    "tags": []
   },
   "outputs": [],
   "source": [
    "df_train['Data'] = df_train.Data.apply(lambda s: list(map(int, s.split(','))))\n",
    "df_train['Target'] = df_train.Target.apply(lambda s: list(map(int, s.split(','))))\n",
    "df_test['Data'] = df_test.Data.apply(lambda s: list(map(int, s.split(','))))"
   ]
  },
  {
   "cell_type": "code",
   "execution_count": 6,
   "id": "d471a6c6",
   "metadata": {
    "execution": {
     "iopub.execute_input": "2022-04-29T11:28:40.552109Z",
     "iopub.status.busy": "2022-04-29T11:28:40.551843Z",
     "iopub.status.idle": "2022-04-29T11:28:40.575862Z",
     "shell.execute_reply": "2022-04-29T11:28:40.575430Z"
    },
    "papermill": {
     "duration": 0.054664,
     "end_time": "2022-04-29T11:28:40.577565",
     "exception": false,
     "start_time": "2022-04-29T11:28:40.522901",
     "status": "completed"
    },
    "tags": []
   },
   "outputs": [
    {
     "data": {
      "text/html": [
       "<div>\n",
       "<style scoped>\n",
       "    .dataframe tbody tr th:only-of-type {\n",
       "        vertical-align: middle;\n",
       "    }\n",
       "\n",
       "    .dataframe tbody tr th {\n",
       "        vertical-align: top;\n",
       "    }\n",
       "\n",
       "    .dataframe thead th {\n",
       "        text-align: right;\n",
       "    }\n",
       "</style>\n",
       "<table border=\"1\" class=\"dataframe\">\n",
       "  <thead>\n",
       "    <tr style=\"text-align: right;\">\n",
       "      <th></th>\n",
       "      <th>Id</th>\n",
       "      <th>Data</th>\n",
       "      <th>Target</th>\n",
       "    </tr>\n",
       "  </thead>\n",
       "  <tbody>\n",
       "    <tr>\n",
       "      <th>0</th>\n",
       "      <td>0</td>\n",
       "      <td>[4814, 4814, 6010, 6011, 4814, 6011, 6011, 481...</td>\n",
       "      <td>[4814, 4814, 4814, 4814, 5411, 4814, 4814, 481...</td>\n",
       "    </tr>\n",
       "    <tr>\n",
       "      <th>1</th>\n",
       "      <td>1</td>\n",
       "      <td>[6011, 6011, 6011, 6011, 6011, 6011, 6011, 481...</td>\n",
       "      <td>[4814, 6011, 4814, 6011, 4814, 4814, 6011, 481...</td>\n",
       "    </tr>\n",
       "    <tr>\n",
       "      <th>2</th>\n",
       "      <td>2</td>\n",
       "      <td>[8021, 6011, 6011, 6010, 4829, 4814, 6011, 601...</td>\n",
       "      <td>[6011, 6011, 6010, 4829, 4829, 6010, 6011, 601...</td>\n",
       "    </tr>\n",
       "    <tr>\n",
       "      <th>3</th>\n",
       "      <td>3</td>\n",
       "      <td>[4814, 6011, 4814, 4814, 4814, 6011, 6011, 569...</td>\n",
       "      <td>[6011, 6011, 6010, 6011, 6011, 4814, 4814, 601...</td>\n",
       "    </tr>\n",
       "    <tr>\n",
       "      <th>4</th>\n",
       "      <td>4</td>\n",
       "      <td>[4814, 4814, 4814, 4814, 4814, 4814, 5946, 481...</td>\n",
       "      <td>[5499, 6011, 4814, 4829, 5200, 5411, 5499, 591...</td>\n",
       "    </tr>\n",
       "  </tbody>\n",
       "</table>\n",
       "</div>"
      ],
      "text/plain": [
       "   Id                                               Data  \\\n",
       "0   0  [4814, 4814, 6010, 6011, 4814, 6011, 6011, 481...   \n",
       "1   1  [6011, 6011, 6011, 6011, 6011, 6011, 6011, 481...   \n",
       "2   2  [8021, 6011, 6011, 6010, 4829, 4814, 6011, 601...   \n",
       "3   3  [4814, 6011, 4814, 4814, 4814, 6011, 6011, 569...   \n",
       "4   4  [4814, 4814, 4814, 4814, 4814, 4814, 5946, 481...   \n",
       "\n",
       "                                              Target  \n",
       "0  [4814, 4814, 4814, 4814, 5411, 4814, 4814, 481...  \n",
       "1  [4814, 6011, 4814, 6011, 4814, 4814, 6011, 481...  \n",
       "2  [6011, 6011, 6010, 4829, 4829, 6010, 6011, 601...  \n",
       "3  [6011, 6011, 6010, 6011, 6011, 4814, 4814, 601...  \n",
       "4  [5499, 6011, 4814, 4829, 5200, 5411, 5499, 591...  "
      ]
     },
     "execution_count": 6,
     "metadata": {},
     "output_type": "execute_result"
    }
   ],
   "source": [
    "df_train.head()"
   ]
  },
  {
   "cell_type": "code",
   "execution_count": 7,
   "id": "833307fc",
   "metadata": {
    "execution": {
     "iopub.execute_input": "2022-04-29T11:28:40.639211Z",
     "iopub.status.busy": "2022-04-29T11:28:40.638890Z",
     "iopub.status.idle": "2022-04-29T11:28:40.643472Z",
     "shell.execute_reply": "2022-04-29T11:28:40.642850Z"
    },
    "papermill": {
     "duration": 0.036333,
     "end_time": "2022-04-29T11:28:40.645093",
     "exception": false,
     "start_time": "2022-04-29T11:28:40.608760",
     "status": "completed"
    },
    "tags": []
   },
   "outputs": [
    {
     "data": {
      "text/plain": [
       "(7033, 3)"
      ]
     },
     "execution_count": 7,
     "metadata": {},
     "output_type": "execute_result"
    }
   ],
   "source": [
    "df_train.shape"
   ]
  },
  {
   "cell_type": "code",
   "execution_count": 8,
   "id": "e8ce02fe",
   "metadata": {
    "execution": {
     "iopub.execute_input": "2022-04-29T11:28:40.705956Z",
     "iopub.status.busy": "2022-04-29T11:28:40.705793Z",
     "iopub.status.idle": "2022-04-29T11:28:40.711413Z",
     "shell.execute_reply": "2022-04-29T11:28:40.710349Z"
    },
    "papermill": {
     "duration": 0.037617,
     "end_time": "2022-04-29T11:28:40.713056",
     "exception": false,
     "start_time": "2022-04-29T11:28:40.675439",
     "status": "completed"
    },
    "tags": []
   },
   "outputs": [
    {
     "data": {
      "text/plain": [
       "Id         int64\n",
       "Data      object\n",
       "Target    object\n",
       "dtype: object"
      ]
     },
     "execution_count": 8,
     "metadata": {},
     "output_type": "execute_result"
    }
   ],
   "source": [
    "df_train.dtypes"
   ]
  },
  {
   "cell_type": "code",
   "execution_count": 9,
   "id": "69fb9fee",
   "metadata": {
    "execution": {
     "iopub.execute_input": "2022-04-29T11:28:40.776158Z",
     "iopub.status.busy": "2022-04-29T11:28:40.774926Z",
     "iopub.status.idle": "2022-04-29T11:28:40.788875Z",
     "shell.execute_reply": "2022-04-29T11:28:40.788433Z"
    },
    "papermill": {
     "duration": 0.046827,
     "end_time": "2022-04-29T11:28:40.790437",
     "exception": false,
     "start_time": "2022-04-29T11:28:40.743610",
     "status": "completed"
    },
    "tags": []
   },
   "outputs": [
    {
     "data": {
      "text/html": [
       "<div>\n",
       "<style scoped>\n",
       "    .dataframe tbody tr th:only-of-type {\n",
       "        vertical-align: middle;\n",
       "    }\n",
       "\n",
       "    .dataframe tbody tr th {\n",
       "        vertical-align: top;\n",
       "    }\n",
       "\n",
       "    .dataframe thead th {\n",
       "        text-align: right;\n",
       "    }\n",
       "</style>\n",
       "<table border=\"1\" class=\"dataframe\">\n",
       "  <thead>\n",
       "    <tr style=\"text-align: right;\">\n",
       "      <th></th>\n",
       "      <th>Id</th>\n",
       "      <th>Data</th>\n",
       "    </tr>\n",
       "  </thead>\n",
       "  <tbody>\n",
       "    <tr>\n",
       "      <th>0</th>\n",
       "      <td>0</td>\n",
       "      <td>[4814, 4814, 6011, 6011, 6010, 6011, 6011, 481...</td>\n",
       "    </tr>\n",
       "    <tr>\n",
       "      <th>1</th>\n",
       "      <td>1</td>\n",
       "      <td>[6010, 6011, 6010, 5411, 5411, 5977, 6011, 601...</td>\n",
       "    </tr>\n",
       "    <tr>\n",
       "      <th>2</th>\n",
       "      <td>2</td>\n",
       "      <td>[4814, 6011, 5251, 6011, 7832, 5641, 5814, 482...</td>\n",
       "    </tr>\n",
       "    <tr>\n",
       "      <th>3</th>\n",
       "      <td>3</td>\n",
       "      <td>[6011, 4722, 4722, 4722, 4814, 6011, 6011, 482...</td>\n",
       "    </tr>\n",
       "    <tr>\n",
       "      <th>4</th>\n",
       "      <td>4</td>\n",
       "      <td>[4814, 4814, 4814, 6011, 4814, 4814, 4814, 481...</td>\n",
       "    </tr>\n",
       "  </tbody>\n",
       "</table>\n",
       "</div>"
      ],
      "text/plain": [
       "   Id                                               Data\n",
       "0   0  [4814, 4814, 6011, 6011, 6010, 6011, 6011, 481...\n",
       "1   1  [6010, 6011, 6010, 5411, 5411, 5977, 6011, 601...\n",
       "2   2  [4814, 6011, 5251, 6011, 7832, 5641, 5814, 482...\n",
       "3   3  [6011, 4722, 4722, 4722, 4814, 6011, 6011, 482...\n",
       "4   4  [4814, 4814, 4814, 6011, 4814, 4814, 4814, 481..."
      ]
     },
     "execution_count": 9,
     "metadata": {},
     "output_type": "execute_result"
    }
   ],
   "source": [
    "df_test.head()"
   ]
  },
  {
   "cell_type": "code",
   "execution_count": 10,
   "id": "da5c89b8",
   "metadata": {
    "execution": {
     "iopub.execute_input": "2022-04-29T11:28:40.853197Z",
     "iopub.status.busy": "2022-04-29T11:28:40.852834Z",
     "iopub.status.idle": "2022-04-29T11:28:40.856984Z",
     "shell.execute_reply": "2022-04-29T11:28:40.856481Z"
    },
    "papermill": {
     "duration": 0.037477,
     "end_time": "2022-04-29T11:28:40.858816",
     "exception": false,
     "start_time": "2022-04-29T11:28:40.821339",
     "status": "completed"
    },
    "tags": []
   },
   "outputs": [
    {
     "data": {
      "text/plain": [
       "(7033, 2)"
      ]
     },
     "execution_count": 10,
     "metadata": {},
     "output_type": "execute_result"
    }
   ],
   "source": [
    "df_test.shape"
   ]
  },
  {
   "cell_type": "code",
   "execution_count": 11,
   "id": "3d38adac",
   "metadata": {
    "execution": {
     "iopub.execute_input": "2022-04-29T11:28:40.922135Z",
     "iopub.status.busy": "2022-04-29T11:28:40.921685Z",
     "iopub.status.idle": "2022-04-29T11:28:40.926566Z",
     "shell.execute_reply": "2022-04-29T11:28:40.926087Z"
    },
    "papermill": {
     "duration": 0.038041,
     "end_time": "2022-04-29T11:28:40.927940",
     "exception": false,
     "start_time": "2022-04-29T11:28:40.889899",
     "status": "completed"
    },
    "tags": []
   },
   "outputs": [
    {
     "data": {
      "text/plain": [
       "Id       int64\n",
       "Data    object\n",
       "dtype: object"
      ]
     },
     "execution_count": 11,
     "metadata": {},
     "output_type": "execute_result"
    }
   ],
   "source": [
    "df_test.dtypes"
   ]
  },
  {
   "cell_type": "markdown",
   "id": "f879ba4c",
   "metadata": {
    "papermill": {
     "duration": 0.020398,
     "end_time": "2022-04-29T11:28:40.968489",
     "exception": false,
     "start_time": "2022-04-29T11:28:40.948091",
     "status": "completed"
    },
    "tags": []
   },
   "source": [
    "## Baseline 1: топ10 MCC-кодов из train-части"
   ]
  },
  {
   "cell_type": "markdown",
   "id": "8a4e538b",
   "metadata": {
    "papermill": {
     "duration": 0.019762,
     "end_time": "2022-04-29T11:28:41.008090",
     "exception": false,
     "start_time": "2022-04-29T11:28:40.988328",
     "status": "completed"
    },
    "tags": []
   },
   "source": [
    "MCC-код и соответствующее количество вхождений в train-часть"
   ]
  },
  {
   "cell_type": "code",
   "execution_count": 12,
   "id": "91883e20",
   "metadata": {
    "execution": {
     "iopub.execute_input": "2022-04-29T11:28:41.049892Z",
     "iopub.status.busy": "2022-04-29T11:28:41.049515Z",
     "iopub.status.idle": "2022-04-29T11:28:41.634250Z",
     "shell.execute_reply": "2022-04-29T11:28:41.633482Z"
    },
    "papermill": {
     "duration": 0.607889,
     "end_time": "2022-04-29T11:28:41.635905",
     "exception": false,
     "start_time": "2022-04-29T11:28:41.028016",
     "status": "completed"
    },
    "tags": []
   },
   "outputs": [
    {
     "data": {
      "text/plain": [
       "6011    700677\n",
       "6010    490602\n",
       "4814    473396\n",
       "5411    472408\n",
       "4829    307388\n",
       "5499    164719\n",
       "5541     68224\n",
       "5912     65071\n",
       "5331     61833\n",
       "5812     52029\n",
       "Name: Data, dtype: int64"
      ]
     },
     "execution_count": 12,
     "metadata": {},
     "output_type": "execute_result"
    }
   ],
   "source": [
    "top10_codes = df_train['Data'].explode().value_counts().head(10)\n",
    "top10_codes"
   ]
  },
  {
   "cell_type": "code",
   "execution_count": 13,
   "id": "a9ae503f",
   "metadata": {
    "execution": {
     "iopub.execute_input": "2022-04-29T11:28:41.680458Z",
     "iopub.status.busy": "2022-04-29T11:28:41.680013Z",
     "iopub.status.idle": "2022-04-29T11:28:42.039625Z",
     "shell.execute_reply": "2022-04-29T11:28:42.038882Z"
    },
    "papermill": {
     "duration": 0.383362,
     "end_time": "2022-04-29T11:28:42.041159",
     "exception": false,
     "start_time": "2022-04-29T11:28:41.657797",
     "status": "completed"
    },
    "tags": []
   },
   "outputs": [
    {
     "data": {
      "text/plain": [
       "0.2742435829727881"
      ]
     },
     "execution_count": 13,
     "metadata": {},
     "output_type": "execute_result"
    }
   ],
   "source": [
    "mapk(df_train['Target'], [top10_codes.index]*len(df_train))"
   ]
  },
  {
   "cell_type": "markdown",
   "id": "7e6105ff",
   "metadata": {
    "papermill": {
     "duration": 0.021358,
     "end_time": "2022-04-29T11:28:42.084240",
     "exception": false,
     "start_time": "2022-04-29T11:28:42.062882",
     "status": "completed"
    },
    "tags": []
   },
   "source": [
    "## Baseline 2: cамые популярные транзакции пользователя."
   ]
  },
  {
   "cell_type": "markdown",
   "id": "8c720107",
   "metadata": {
    "papermill": {
     "duration": 0.02165,
     "end_time": "2022-04-29T11:28:42.128068",
     "exception": false,
     "start_time": "2022-04-29T11:28:42.106418",
     "status": "completed"
    },
    "tags": []
   },
   "source": [
    "**Если таких менее 10, то замешиваются топ10 популярных из всей выборки.**"
   ]
  },
  {
   "cell_type": "code",
   "execution_count": 14,
   "id": "ed657fac",
   "metadata": {
    "execution": {
     "iopub.execute_input": "2022-04-29T11:28:42.173136Z",
     "iopub.status.busy": "2022-04-29T11:28:42.172738Z",
     "iopub.status.idle": "2022-04-29T11:28:42.177976Z",
     "shell.execute_reply": "2022-04-29T11:28:42.177240Z"
    },
    "papermill": {
     "duration": 0.029381,
     "end_time": "2022-04-29T11:28:42.179338",
     "exception": false,
     "start_time": "2022-04-29T11:28:42.149957",
     "status": "completed"
    },
    "tags": []
   },
   "outputs": [],
   "source": [
    "def get_top_codes(transactions, top_n=10, drop_from=5):\n",
    "    transactions_stats = sorted(\n",
    "        Counter(transactions).items(), \n",
    "        key=lambda x: x[1], \n",
    "        reverse=True\n",
    "    )[:top_n]\n",
    "    \n",
    "\n",
    "    top_codes = [mcc_code for (mcc_code, count) in transactions_stats if count >= drop_from]\n",
    "    top_codes += list(top10_codes.index)\n",
    "\n",
    "    return top_codes[:10]"
   ]
  },
  {
   "cell_type": "code",
   "execution_count": 15,
   "id": "c96e8d8f",
   "metadata": {
    "execution": {
     "iopub.execute_input": "2022-04-29T11:28:42.223219Z",
     "iopub.status.busy": "2022-04-29T11:28:42.223029Z",
     "iopub.status.idle": "2022-04-29T11:28:42.923037Z",
     "shell.execute_reply": "2022-04-29T11:28:42.922284Z"
    },
    "papermill": {
     "duration": 0.724305,
     "end_time": "2022-04-29T11:28:42.925185",
     "exception": false,
     "start_time": "2022-04-29T11:28:42.200880",
     "status": "completed"
    },
    "tags": []
   },
   "outputs": [],
   "source": [
    "df_train['pred_baseline_2'] = df_train['Data'].apply(get_top_codes)"
   ]
  },
  {
   "cell_type": "code",
   "execution_count": 16,
   "id": "95c16a21",
   "metadata": {},
   "outputs": [
    {
     "data": {
      "text/html": [
       "<div>\n",
       "<style scoped>\n",
       "    .dataframe tbody tr th:only-of-type {\n",
       "        vertical-align: middle;\n",
       "    }\n",
       "\n",
       "    .dataframe tbody tr th {\n",
       "        vertical-align: top;\n",
       "    }\n",
       "\n",
       "    .dataframe thead th {\n",
       "        text-align: right;\n",
       "    }\n",
       "</style>\n",
       "<table border=\"1\" class=\"dataframe\">\n",
       "  <thead>\n",
       "    <tr style=\"text-align: right;\">\n",
       "      <th></th>\n",
       "      <th>Id</th>\n",
       "      <th>Data</th>\n",
       "      <th>Target</th>\n",
       "      <th>pred_baseline_2</th>\n",
       "    </tr>\n",
       "  </thead>\n",
       "  <tbody>\n",
       "    <tr>\n",
       "      <th>0</th>\n",
       "      <td>0</td>\n",
       "      <td>[4814, 4814, 6010, 6011, 4814, 6011, 6011, 481...</td>\n",
       "      <td>[4814, 4814, 4814, 4814, 5411, 4814, 4814, 481...</td>\n",
       "      <td>[4814, 6011, 5311, 5411, 6011, 6010, 4814, 541...</td>\n",
       "    </tr>\n",
       "    <tr>\n",
       "      <th>1</th>\n",
       "      <td>1</td>\n",
       "      <td>[6011, 6011, 6011, 6011, 6011, 6011, 6011, 481...</td>\n",
       "      <td>[4814, 6011, 4814, 6011, 4814, 4814, 6011, 481...</td>\n",
       "      <td>[4814, 6011, 6011, 6010, 4814, 5411, 4829, 549...</td>\n",
       "    </tr>\n",
       "    <tr>\n",
       "      <th>2</th>\n",
       "      <td>2</td>\n",
       "      <td>[8021, 6011, 6011, 6010, 4829, 4814, 6011, 601...</td>\n",
       "      <td>[6011, 6011, 6010, 4829, 4829, 6010, 6011, 601...</td>\n",
       "      <td>[5814, 6010, 4829, 6011, 4814, 5411, 5331, 599...</td>\n",
       "    </tr>\n",
       "    <tr>\n",
       "      <th>3</th>\n",
       "      <td>3</td>\n",
       "      <td>[4814, 6011, 4814, 4814, 4814, 6011, 6011, 569...</td>\n",
       "      <td>[6011, 6011, 6010, 6011, 6011, 4814, 4814, 601...</td>\n",
       "      <td>[5411, 4814, 6011, 6010, 6012, 5999, 6011, 601...</td>\n",
       "    </tr>\n",
       "    <tr>\n",
       "      <th>4</th>\n",
       "      <td>4</td>\n",
       "      <td>[4814, 4814, 4814, 4814, 4814, 4814, 5946, 481...</td>\n",
       "      <td>[5499, 6011, 4814, 4829, 5200, 5411, 5499, 591...</td>\n",
       "      <td>[4814, 5411, 6011, 4829, 5912, 5499, 6010, 520...</td>\n",
       "    </tr>\n",
       "    <tr>\n",
       "      <th>...</th>\n",
       "      <td>...</td>\n",
       "      <td>...</td>\n",
       "      <td>...</td>\n",
       "      <td>...</td>\n",
       "    </tr>\n",
       "    <tr>\n",
       "      <th>7028</th>\n",
       "      <td>7028</td>\n",
       "      <td>[6010, 4829, 6011, 6011, 6011, 6010, 6011, 601...</td>\n",
       "      <td>[4814, 5499, 5499, 5411, 5251, 4814, 5499, 549...</td>\n",
       "      <td>[5251, 4814, 5499, 6011, 6010, 4829, 5411, 601...</td>\n",
       "    </tr>\n",
       "    <tr>\n",
       "      <th>7029</th>\n",
       "      <td>7029</td>\n",
       "      <td>[4814, 5699, 5641, 5411, 6010, 6011, 4814, 601...</td>\n",
       "      <td>[6011, 5261, 6011, 5261, 4814, 5411, 4814, 601...</td>\n",
       "      <td>[6011, 4814, 5411, 5912, 6010, 5499, 4900, 581...</td>\n",
       "    </tr>\n",
       "    <tr>\n",
       "      <th>7030</th>\n",
       "      <td>7030</td>\n",
       "      <td>[6011, 6011, 6011, 6011, 6011, 6011, 6011, 601...</td>\n",
       "      <td>[6011, 6011, 6011, 6011, 6011, 6011, 6011, 601...</td>\n",
       "      <td>[6011, 6011, 6010, 4814, 5411, 4829, 5499, 554...</td>\n",
       "    </tr>\n",
       "    <tr>\n",
       "      <th>7031</th>\n",
       "      <td>7031</td>\n",
       "      <td>[4814, 4814, 5411, 6011, 6011, 4814, 4814, 481...</td>\n",
       "      <td>[4814, 6011, 6011, 5999, 5999, 6011, 6011, 601...</td>\n",
       "      <td>[6011, 5499, 4814, 5999, 6010, 6011, 6010, 481...</td>\n",
       "    </tr>\n",
       "    <tr>\n",
       "      <th>7032</th>\n",
       "      <td>7032</td>\n",
       "      <td>[6011, 6011, 6011, 6011, 5541, 4814, 6011, 601...</td>\n",
       "      <td>[6011, 4829, 6010, 6011, 6011, 5411, 6011, 554...</td>\n",
       "      <td>[6011, 4814, 5499, 6010, 5541, 4829, 5411, 601...</td>\n",
       "    </tr>\n",
       "  </tbody>\n",
       "</table>\n",
       "<p>7033 rows × 4 columns</p>\n",
       "</div>"
      ],
      "text/plain": [
       "        Id                                               Data  \\\n",
       "0        0  [4814, 4814, 6010, 6011, 4814, 6011, 6011, 481...   \n",
       "1        1  [6011, 6011, 6011, 6011, 6011, 6011, 6011, 481...   \n",
       "2        2  [8021, 6011, 6011, 6010, 4829, 4814, 6011, 601...   \n",
       "3        3  [4814, 6011, 4814, 4814, 4814, 6011, 6011, 569...   \n",
       "4        4  [4814, 4814, 4814, 4814, 4814, 4814, 5946, 481...   \n",
       "...    ...                                                ...   \n",
       "7028  7028  [6010, 4829, 6011, 6011, 6011, 6010, 6011, 601...   \n",
       "7029  7029  [4814, 5699, 5641, 5411, 6010, 6011, 4814, 601...   \n",
       "7030  7030  [6011, 6011, 6011, 6011, 6011, 6011, 6011, 601...   \n",
       "7031  7031  [4814, 4814, 5411, 6011, 6011, 4814, 4814, 481...   \n",
       "7032  7032  [6011, 6011, 6011, 6011, 5541, 4814, 6011, 601...   \n",
       "\n",
       "                                                 Target  \\\n",
       "0     [4814, 4814, 4814, 4814, 5411, 4814, 4814, 481...   \n",
       "1     [4814, 6011, 4814, 6011, 4814, 4814, 6011, 481...   \n",
       "2     [6011, 6011, 6010, 4829, 4829, 6010, 6011, 601...   \n",
       "3     [6011, 6011, 6010, 6011, 6011, 4814, 4814, 601...   \n",
       "4     [5499, 6011, 4814, 4829, 5200, 5411, 5499, 591...   \n",
       "...                                                 ...   \n",
       "7028  [4814, 5499, 5499, 5411, 5251, 4814, 5499, 549...   \n",
       "7029  [6011, 5261, 6011, 5261, 4814, 5411, 4814, 601...   \n",
       "7030  [6011, 6011, 6011, 6011, 6011, 6011, 6011, 601...   \n",
       "7031  [4814, 6011, 6011, 5999, 5999, 6011, 6011, 601...   \n",
       "7032  [6011, 4829, 6010, 6011, 6011, 5411, 6011, 554...   \n",
       "\n",
       "                                        pred_baseline_2  \n",
       "0     [4814, 6011, 5311, 5411, 6011, 6010, 4814, 541...  \n",
       "1     [4814, 6011, 6011, 6010, 4814, 5411, 4829, 549...  \n",
       "2     [5814, 6010, 4829, 6011, 4814, 5411, 5331, 599...  \n",
       "3     [5411, 4814, 6011, 6010, 6012, 5999, 6011, 601...  \n",
       "4     [4814, 5411, 6011, 4829, 5912, 5499, 6010, 520...  \n",
       "...                                                 ...  \n",
       "7028  [5251, 4814, 5499, 6011, 6010, 4829, 5411, 601...  \n",
       "7029  [6011, 4814, 5411, 5912, 6010, 5499, 4900, 581...  \n",
       "7030  [6011, 6011, 6010, 4814, 5411, 4829, 5499, 554...  \n",
       "7031  [6011, 5499, 4814, 5999, 6010, 6011, 6010, 481...  \n",
       "7032  [6011, 4814, 5499, 6010, 5541, 4829, 5411, 601...  \n",
       "\n",
       "[7033 rows x 4 columns]"
      ]
     },
     "execution_count": 16,
     "metadata": {},
     "output_type": "execute_result"
    }
   ],
   "source": [
    "df_train"
   ]
  },
  {
   "cell_type": "code",
   "execution_count": 17,
   "id": "78304bc0",
   "metadata": {
    "execution": {
     "iopub.execute_input": "2022-04-29T11:28:42.992134Z",
     "iopub.status.busy": "2022-04-29T11:28:42.991887Z",
     "iopub.status.idle": "2022-04-29T11:28:43.057465Z",
     "shell.execute_reply": "2022-04-29T11:28:43.056633Z"
    },
    "papermill": {
     "duration": 0.101482,
     "end_time": "2022-04-29T11:28:43.059592",
     "exception": false,
     "start_time": "2022-04-29T11:28:42.958110",
     "status": "completed"
    },
    "tags": []
   },
   "outputs": [
    {
     "data": {
      "text/plain": [
       "0.3236094127683776"
      ]
     },
     "execution_count": 17,
     "metadata": {},
     "output_type": "execute_result"
    }
   ],
   "source": [
    "mapk(df_train['Target'], df_train['pred_baseline_2'])"
   ]
  },
  {
   "cell_type": "markdown",
   "id": "37d6a50f",
   "metadata": {
    "papermill": {
     "duration": 0.032694,
     "end_time": "2022-04-29T11:28:43.125360",
     "exception": false,
     "start_time": "2022-04-29T11:28:43.092666",
     "status": "completed"
    },
    "tags": []
   },
   "source": [
    "## Submission"
   ]
  },
  {
   "cell_type": "markdown",
   "id": "23c9d366",
   "metadata": {
    "papermill": {
     "duration": 0.032635,
     "end_time": "2022-04-29T11:28:43.191249",
     "exception": false,
     "start_time": "2022-04-29T11:28:43.158614",
     "status": "completed"
    },
    "tags": []
   },
   "source": [
    "предсказания из второго бейзлайна"
   ]
  },
  {
   "cell_type": "code",
   "execution_count": 18,
   "id": "b98dc9a9",
   "metadata": {
    "execution": {
     "iopub.execute_input": "2022-04-29T11:28:43.259200Z",
     "iopub.status.busy": "2022-04-29T11:28:43.258857Z",
     "iopub.status.idle": "2022-04-29T11:28:43.916731Z",
     "shell.execute_reply": "2022-04-29T11:28:43.916193Z"
    },
    "papermill": {
     "duration": 0.694598,
     "end_time": "2022-04-29T11:28:43.918708",
     "exception": false,
     "start_time": "2022-04-29T11:28:43.224110",
     "status": "completed"
    },
    "tags": []
   },
   "outputs": [],
   "source": [
    "df_test['Predicted'] = df_test['Data'].apply(get_top_codes)"
   ]
  },
  {
   "cell_type": "code",
   "execution_count": 19,
   "id": "87a4ed2a",
   "metadata": {
    "execution": {
     "iopub.execute_input": "2022-04-29T11:28:44.074356Z",
     "iopub.status.busy": "2022-04-29T11:28:44.074126Z",
     "iopub.status.idle": "2022-04-29T11:28:44.124659Z",
     "shell.execute_reply": "2022-04-29T11:28:44.123962Z"
    },
    "papermill": {
     "duration": 0.087272,
     "end_time": "2022-04-29T11:28:44.126842",
     "exception": false,
     "start_time": "2022-04-29T11:28:44.039570",
     "status": "completed"
    },
    "tags": []
   },
   "outputs": [],
   "source": [
    "submission_baseline_2 = df_test[['Id', 'Predicted']]\n",
    "submission_baseline_2['Predicted'] = submission_baseline_2.Predicted.astype(str).str.replace(',', '')\n",
    "submission_baseline_2.to_csv('data\\submission_baseline_3.csv', index=False)"
   ]
  }
 ],
 "metadata": {
  "kernelspec": {
   "display_name": "Python 3",
   "language": "python",
   "name": "python3"
  },
  "language_info": {
   "codemirror_mode": {
    "name": "ipython",
    "version": 3
   },
   "file_extension": ".py",
   "mimetype": "text/x-python",
   "name": "python",
   "nbconvert_exporter": "python",
   "pygments_lexer": "ipython3",
   "version": "3.9.16"
  },
  "papermill": {
   "default_parameters": {},
   "duration": 16.857377,
   "end_time": "2022-04-29T11:28:45.079962",
   "environment_variables": {},
   "exception": null,
   "input_path": "__notebook__.ipynb",
   "output_path": "__notebook__.ipynb",
   "parameters": {},
   "start_time": "2022-04-29T11:28:28.222585",
   "version": "2.3.4"
  }
 },
 "nbformat": 4,
 "nbformat_minor": 5
}
