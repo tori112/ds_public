{
 "cells": [
  {
   "cell_type": "markdown",
   "id": "e6e54354-f79c-4083-9f94-c569b5a0894a",
   "metadata": {
    "tags": []
   },
   "source": [
    "## Введение"
   ]
  },
  {
   "cell_type": "markdown",
   "id": "8e3d7e19-7fbe-4f2f-8936-ec3a46da9513",
   "metadata": {
    "tags": []
   },
   "source": [
    "### Описание задачи"
   ]
  },
  {
   "cell_type": "markdown",
   "id": "7e89d18e-4683-4970-bb14-bd0973a3032f",
   "metadata": {},
   "source": [
    "Из Инвестиционной компании Иволга стали уходить клиенты. Каждый месяц. Немного, но заметно. Банковские маркетологи посчитали: сохранять текущих клиентов дешевле, чем привлекать новых."
   ]
  },
  {
   "cell_type": "markdown",
   "id": "ef4fc9e5-bedd-4e86-bd14-83a5dd965a71",
   "metadata": {
    "tags": []
   },
   "source": [
    "### Краткое описание проекта"
   ]
  },
  {
   "cell_type": "markdown",
   "id": "b3076dbb-7fa8-4369-bd3e-6e327f55ab45",
   "metadata": {},
   "source": [
    "Проект посвящен выбору модели и обучению модели для предсказания ухода клиента из брокерского сервиса. Важным аспектом проекта является корректная подготовка признаков и качественное тестирование лучшей модели."
   ]
  },
  {
   "cell_type": "markdown",
   "id": "be265691-f3b1-46dc-8103-b4f66bedd757",
   "metadata": {
    "tags": []
   },
   "source": [
    "### Описание данных"
   ]
  },
  {
   "cell_type": "markdown",
   "id": "f5200095-d9fc-4849-9bc7-e06f1e4a2cf6",
   "metadata": {},
   "source": [
    "**ДАННЫЕ:** Исторические данные о поведении клиентов и расторжении договоров с брокером. \n",
    "\n",
    "\n",
    "**Признаки**\n",
    "- *RowNumber —* индекс строки в данных\n",
    "- *CustomerId* — уникальный идентификатор клиента\n",
    "- *Surname —* фамилия\n",
    "- *CreditScore —* кредитный рейтинг\n",
    "- *Geography —* страна проживания\n",
    "- *Gender —* пол\n",
    "- *Age —* возраст\n",
    "- *Tenure —* сколько лет человек является клиентом брокера\n",
    "- *Balance —* баланс на счёте\n",
    "- *NumOfProducts —* количество инвестиционных продуктов, используемых клиентом\n",
    "- *HasCrCard —* наличие кредитной карты\n",
    "- *IsActiveMember —* активность клиента\n",
    "- *EstimatedSalary —* предполагаемая зарплата\n",
    "\n",
    "**Целевой признак**\n",
    "- *Exited* — факт ухода клиента"
   ]
  },
  {
   "cell_type": "markdown",
   "id": "26a2fc31-7d44-4607-b1b0-657300c48006",
   "metadata": {
    "tags": []
   },
   "source": [
    "### План исследования"
   ]
  },
  {
   "cell_type": "markdown",
   "id": "30dbf91f-963f-4ec8-aefe-f31fdb0c625b",
   "metadata": {},
   "source": [
    "1. Импорт и первичный анализ датасета\n",
    "2. Первичное изменение датасета для удобства работы\n",
    "3. Разделение датасета на признаки и целевые признаки\n",
    "4. Исследование баланса классов целевого признака\n",
    "5. Разбиение выборок для обучения моделей\n",
    "6. Подготовка категориальных признаков для обучения моделей\n",
    "7. Подготовка численных признаков для обучения моделей\n",
    "9. Апсемплинг / Даунсемплинг обучающих выборок\n",
    "9. Исследование баланса классов целевого признака Апсемплинг / Даунсемплинг\n",
    "10. Выбор моделей\n",
    "11. Тест моделей с перебором гиперпараметров на несбалансированной и сбалансированных выборках\n",
    "12. Выбор лучшей модели\n",
    "\n"
   ]
  },
  {
   "cell_type": "markdown",
   "id": "d39524c1-0843-4931-ad88-1768e3dd1554",
   "metadata": {
    "tags": []
   },
   "source": [
    "##  Исследование"
   ]
  },
  {
   "cell_type": "markdown",
   "id": "bd1b05fe-aabd-486a-a7b2-bbf74f68d398",
   "metadata": {
    "tags": []
   },
   "source": [
    "### Imports"
   ]
  },
  {
   "cell_type": "code",
   "execution_count": 1,
   "id": "8be2ee64-987c-4623-8c19-f9ac8b15bdab",
   "metadata": {},
   "outputs": [
    {
     "name": "stdout",
     "output_type": "stream",
     "text": [
      "Requirement already satisfied: imblearn in c:\\programdata\\anaconda3\\envs\\ds_practicum\\lib\\site-packages (0.0)\n",
      "Requirement already satisfied: imbalanced-learn in c:\\programdata\\anaconda3\\envs\\ds_practicum\\lib\\site-packages (from imblearn) (0.11.0)\n",
      "Requirement already satisfied: numpy>=1.17.3 in c:\\programdata\\anaconda3\\envs\\ds_practicum\\lib\\site-packages (from imbalanced-learn->imblearn) (1.23.5)\n",
      "Requirement already satisfied: scipy>=1.5.0 in c:\\programdata\\anaconda3\\envs\\ds_practicum\\lib\\site-packages (from imbalanced-learn->imblearn) (1.8.0)\n",
      "Requirement already satisfied: scikit-learn>=1.0.2 in c:\\programdata\\anaconda3\\envs\\ds_practicum\\lib\\site-packages (from imbalanced-learn->imblearn) (1.3.0)\n",
      "Requirement already satisfied: joblib>=1.1.1 in c:\\programdata\\anaconda3\\envs\\ds_practicum\\lib\\site-packages (from imbalanced-learn->imblearn) (1.2.0)\n",
      "Requirement already satisfied: threadpoolctl>=2.0.0 in c:\\programdata\\anaconda3\\envs\\ds_practicum\\lib\\site-packages (from imbalanced-learn->imblearn) (3.1.0)\n"
     ]
    }
   ],
   "source": [
    "!pip install imblearn"
   ]
  },
  {
   "cell_type": "code",
   "execution_count": 2,
   "id": "3b6e4424",
   "metadata": {},
   "outputs": [],
   "source": [
    "from imblearn.over_sampling import SMOTENC # апсемплинг для микса кат и нум фичей\n",
    "from imblearn.under_sampling import RandomUnderSampler # даунсемплинг для микса кат и нум фичей"
   ]
  },
  {
   "cell_type": "code",
   "execution_count": 3,
   "id": "0fdb8434-aa86-4130-8797-acd7490866e5",
   "metadata": {},
   "outputs": [],
   "source": [
    "# импорты из стандартной библиотеки\n",
    "import re\n",
    "from re import sub\n",
    "import warnings\n",
    "warnings.filterwarnings('ignore')\n",
    "\n",
    "# импорты сторонних библиотек\n",
    "import matplotlib.pyplot as plt\n",
    "import pandas as pd\n",
    "pd.set_option('display.max_columns', None)\n",
    "pd.set_option('display.float_format', str)\n",
    "pd.set_option('max_colwidth', None)\n",
    "pd.options.mode.chained_assignment = None # При записи изменённых признаков в исходный датафрейм код может вызывать предупреждение SettingWithCopy.\n",
    "import seaborn as sns\n",
    "import time\n",
    "import imblearn\n",
    "\n",
    "# импорты модулей текущего проекта\n",
    "from sklearn.preprocessing import OneHotEncoder # Кодирование для классификационных алгоритмов\n",
    "from sklearn.preprocessing import StandardScaler # Стандартизация\n",
    "from sklearn.utils import shuffle # Миксер\n",
    "from sklearn.model_selection import train_test_split, RandomizedSearchCV\n",
    "from sklearn.metrics import accuracy_score # Точность модели\n",
    "from sklearn.metrics import confusion_matrix # Матрица ошибок\n",
    "from sklearn.metrics import recall_score # Полнота\n",
    "from sklearn.metrics import precision_score # Точность предсказаний\n",
    "from sklearn.metrics import f1_score # Среднегармоническое полноты и точности\n",
    "from sklearn.metrics import roc_curve\n",
    "from sklearn.metrics import roc_auc_score\n",
    "\n",
    "from sklearn.linear_model import LogisticRegression\n",
    "from sklearn.ensemble import RandomForestClassifier \n",
    "from sklearn.tree import DecisionTreeClassifier\n",
    "\n",
    "from imblearn.over_sampling import SMOTENC # апсемплинг для микса кат и нум фичей\n",
    "from imblearn.under_sampling import RandomUnderSampler # даунсемплинг для микса кат и нум фичей\n",
    "\n",
    "# константы\n",
    "RND_STATE = 12345"
   ]
  },
  {
   "cell_type": "markdown",
   "id": "b71c490b-cce6-439d-a5b0-4980e877af61",
   "metadata": {
    "tags": []
   },
   "source": [
    "### Импорт и первичный анализ датасета"
   ]
  },
  {
   "cell_type": "code",
   "execution_count": 4,
   "id": "6f4fb2e8-c925-41b5-9176-ce34c7bfd185",
   "metadata": {},
   "outputs": [],
   "source": [
    "# создадим функцию для быстрого анализа датасетов\n",
    "def get_data_info(data):\n",
    "    display(data.sample(5))\n",
    "    display(data.info())\n",
    "    display(data.describe(include='all'))"
   ]
  },
  {
   "cell_type": "code",
   "execution_count": 5,
   "id": "9fae6bee-f358-440b-8fa0-2813e1e83673",
   "metadata": {},
   "outputs": [
    {
     "name": "stdout",
     "output_type": "stream",
     "text": [
      "local data unavailable. data loaded from https://code.s3.yandex.net/datasets/Churn.csv\n"
     ]
    }
   ],
   "source": [
    "# dataset import\n",
    "try:\n",
    "    data = pd.read_csv('/datasets/Churn.csv')\n",
    "    print('local data loaded')\n",
    "except:\n",
    "    data = pd.read_csv('https://code.s3.yandex.net/datasets/Churn.csv')\n",
    "    print('local data unavailable. data loaded from https://code.s3.yandex.net/datasets/Churn.csv')"
   ]
  },
  {
   "cell_type": "code",
   "execution_count": 6,
   "id": "efcc9c4f-85f4-463d-8c18-55017f695d9d",
   "metadata": {},
   "outputs": [
    {
     "data": {
      "text/html": [
       "<div>\n",
       "<style scoped>\n",
       "    .dataframe tbody tr th:only-of-type {\n",
       "        vertical-align: middle;\n",
       "    }\n",
       "\n",
       "    .dataframe tbody tr th {\n",
       "        vertical-align: top;\n",
       "    }\n",
       "\n",
       "    .dataframe thead th {\n",
       "        text-align: right;\n",
       "    }\n",
       "</style>\n",
       "<table border=\"1\" class=\"dataframe\">\n",
       "  <thead>\n",
       "    <tr style=\"text-align: right;\">\n",
       "      <th></th>\n",
       "      <th>RowNumber</th>\n",
       "      <th>CustomerId</th>\n",
       "      <th>Surname</th>\n",
       "      <th>CreditScore</th>\n",
       "      <th>Geography</th>\n",
       "      <th>Gender</th>\n",
       "      <th>Age</th>\n",
       "      <th>Tenure</th>\n",
       "      <th>Balance</th>\n",
       "      <th>NumOfProducts</th>\n",
       "      <th>HasCrCard</th>\n",
       "      <th>IsActiveMember</th>\n",
       "      <th>EstimatedSalary</th>\n",
       "      <th>Exited</th>\n",
       "    </tr>\n",
       "  </thead>\n",
       "  <tbody>\n",
       "    <tr>\n",
       "      <th>5469</th>\n",
       "      <td>5470</td>\n",
       "      <td>15678571</td>\n",
       "      <td>Barber</td>\n",
       "      <td>723</td>\n",
       "      <td>France</td>\n",
       "      <td>Male</td>\n",
       "      <td>21</td>\n",
       "      <td>NaN</td>\n",
       "      <td>0.0</td>\n",
       "      <td>2</td>\n",
       "      <td>0</td>\n",
       "      <td>0</td>\n",
       "      <td>24847.02</td>\n",
       "      <td>0</td>\n",
       "    </tr>\n",
       "    <tr>\n",
       "      <th>4195</th>\n",
       "      <td>4196</td>\n",
       "      <td>15747168</td>\n",
       "      <td>Sanders</td>\n",
       "      <td>626</td>\n",
       "      <td>Germany</td>\n",
       "      <td>Female</td>\n",
       "      <td>47</td>\n",
       "      <td>2.0</td>\n",
       "      <td>103108.8</td>\n",
       "      <td>1</td>\n",
       "      <td>0</td>\n",
       "      <td>1</td>\n",
       "      <td>166475.44</td>\n",
       "      <td>1</td>\n",
       "    </tr>\n",
       "    <tr>\n",
       "      <th>752</th>\n",
       "      <td>753</td>\n",
       "      <td>15677305</td>\n",
       "      <td>Hsieh</td>\n",
       "      <td>490</td>\n",
       "      <td>France</td>\n",
       "      <td>Female</td>\n",
       "      <td>35</td>\n",
       "      <td>7.0</td>\n",
       "      <td>107749.03</td>\n",
       "      <td>1</td>\n",
       "      <td>1</td>\n",
       "      <td>1</td>\n",
       "      <td>3937.37</td>\n",
       "      <td>0</td>\n",
       "    </tr>\n",
       "    <tr>\n",
       "      <th>7307</th>\n",
       "      <td>7308</td>\n",
       "      <td>15782159</td>\n",
       "      <td>Ndubuagha</td>\n",
       "      <td>850</td>\n",
       "      <td>France</td>\n",
       "      <td>Male</td>\n",
       "      <td>28</td>\n",
       "      <td>8.0</td>\n",
       "      <td>67639.56</td>\n",
       "      <td>2</td>\n",
       "      <td>1</td>\n",
       "      <td>1</td>\n",
       "      <td>194245.29</td>\n",
       "      <td>0</td>\n",
       "    </tr>\n",
       "    <tr>\n",
       "      <th>7214</th>\n",
       "      <td>7215</td>\n",
       "      <td>15652658</td>\n",
       "      <td>Finch</td>\n",
       "      <td>721</td>\n",
       "      <td>France</td>\n",
       "      <td>Male</td>\n",
       "      <td>36</td>\n",
       "      <td>1.0</td>\n",
       "      <td>155176.83</td>\n",
       "      <td>2</td>\n",
       "      <td>1</td>\n",
       "      <td>1</td>\n",
       "      <td>49653.37</td>\n",
       "      <td>0</td>\n",
       "    </tr>\n",
       "  </tbody>\n",
       "</table>\n",
       "</div>"
      ],
      "text/plain": [
       "      RowNumber  CustomerId    Surname  CreditScore Geography  Gender  Age  \\\n",
       "5469       5470    15678571     Barber          723    France    Male   21   \n",
       "4195       4196    15747168    Sanders          626   Germany  Female   47   \n",
       "752         753    15677305      Hsieh          490    France  Female   35   \n",
       "7307       7308    15782159  Ndubuagha          850    France    Male   28   \n",
       "7214       7215    15652658      Finch          721    France    Male   36   \n",
       "\n",
       "      Tenure   Balance  NumOfProducts  HasCrCard  IsActiveMember  \\\n",
       "5469     NaN       0.0              2          0               0   \n",
       "4195     2.0  103108.8              1          0               1   \n",
       "752      7.0 107749.03              1          1               1   \n",
       "7307     8.0  67639.56              2          1               1   \n",
       "7214     1.0 155176.83              2          1               1   \n",
       "\n",
       "      EstimatedSalary  Exited  \n",
       "5469         24847.02       0  \n",
       "4195        166475.44       1  \n",
       "752           3937.37       0  \n",
       "7307        194245.29       0  \n",
       "7214         49653.37       0  "
      ]
     },
     "metadata": {},
     "output_type": "display_data"
    },
    {
     "name": "stdout",
     "output_type": "stream",
     "text": [
      "<class 'pandas.core.frame.DataFrame'>\n",
      "RangeIndex: 10000 entries, 0 to 9999\n",
      "Data columns (total 14 columns):\n",
      " #   Column           Non-Null Count  Dtype  \n",
      "---  ------           --------------  -----  \n",
      " 0   RowNumber        10000 non-null  int64  \n",
      " 1   CustomerId       10000 non-null  int64  \n",
      " 2   Surname          10000 non-null  object \n",
      " 3   CreditScore      10000 non-null  int64  \n",
      " 4   Geography        10000 non-null  object \n",
      " 5   Gender           10000 non-null  object \n",
      " 6   Age              10000 non-null  int64  \n",
      " 7   Tenure           9091 non-null   float64\n",
      " 8   Balance          10000 non-null  float64\n",
      " 9   NumOfProducts    10000 non-null  int64  \n",
      " 10  HasCrCard        10000 non-null  int64  \n",
      " 11  IsActiveMember   10000 non-null  int64  \n",
      " 12  EstimatedSalary  10000 non-null  float64\n",
      " 13  Exited           10000 non-null  int64  \n",
      "dtypes: float64(3), int64(8), object(3)\n",
      "memory usage: 1.1+ MB\n"
     ]
    },
    {
     "data": {
      "text/plain": [
       "None"
      ]
     },
     "metadata": {},
     "output_type": "display_data"
    },
    {
     "data": {
      "text/html": [
       "<div>\n",
       "<style scoped>\n",
       "    .dataframe tbody tr th:only-of-type {\n",
       "        vertical-align: middle;\n",
       "    }\n",
       "\n",
       "    .dataframe tbody tr th {\n",
       "        vertical-align: top;\n",
       "    }\n",
       "\n",
       "    .dataframe thead th {\n",
       "        text-align: right;\n",
       "    }\n",
       "</style>\n",
       "<table border=\"1\" class=\"dataframe\">\n",
       "  <thead>\n",
       "    <tr style=\"text-align: right;\">\n",
       "      <th></th>\n",
       "      <th>RowNumber</th>\n",
       "      <th>CustomerId</th>\n",
       "      <th>Surname</th>\n",
       "      <th>CreditScore</th>\n",
       "      <th>Geography</th>\n",
       "      <th>Gender</th>\n",
       "      <th>Age</th>\n",
       "      <th>Tenure</th>\n",
       "      <th>Balance</th>\n",
       "      <th>NumOfProducts</th>\n",
       "      <th>HasCrCard</th>\n",
       "      <th>IsActiveMember</th>\n",
       "      <th>EstimatedSalary</th>\n",
       "      <th>Exited</th>\n",
       "    </tr>\n",
       "  </thead>\n",
       "  <tbody>\n",
       "    <tr>\n",
       "      <th>count</th>\n",
       "      <td>10000.0</td>\n",
       "      <td>10000.0</td>\n",
       "      <td>10000</td>\n",
       "      <td>10000.0</td>\n",
       "      <td>10000</td>\n",
       "      <td>10000</td>\n",
       "      <td>10000.0</td>\n",
       "      <td>9091.0</td>\n",
       "      <td>10000.0</td>\n",
       "      <td>10000.0</td>\n",
       "      <td>10000.0</td>\n",
       "      <td>10000.0</td>\n",
       "      <td>10000.0</td>\n",
       "      <td>10000.0</td>\n",
       "    </tr>\n",
       "    <tr>\n",
       "      <th>unique</th>\n",
       "      <td>NaN</td>\n",
       "      <td>NaN</td>\n",
       "      <td>2932</td>\n",
       "      <td>NaN</td>\n",
       "      <td>3</td>\n",
       "      <td>2</td>\n",
       "      <td>NaN</td>\n",
       "      <td>NaN</td>\n",
       "      <td>NaN</td>\n",
       "      <td>NaN</td>\n",
       "      <td>NaN</td>\n",
       "      <td>NaN</td>\n",
       "      <td>NaN</td>\n",
       "      <td>NaN</td>\n",
       "    </tr>\n",
       "    <tr>\n",
       "      <th>top</th>\n",
       "      <td>NaN</td>\n",
       "      <td>NaN</td>\n",
       "      <td>Smith</td>\n",
       "      <td>NaN</td>\n",
       "      <td>France</td>\n",
       "      <td>Male</td>\n",
       "      <td>NaN</td>\n",
       "      <td>NaN</td>\n",
       "      <td>NaN</td>\n",
       "      <td>NaN</td>\n",
       "      <td>NaN</td>\n",
       "      <td>NaN</td>\n",
       "      <td>NaN</td>\n",
       "      <td>NaN</td>\n",
       "    </tr>\n",
       "    <tr>\n",
       "      <th>freq</th>\n",
       "      <td>NaN</td>\n",
       "      <td>NaN</td>\n",
       "      <td>32</td>\n",
       "      <td>NaN</td>\n",
       "      <td>5014</td>\n",
       "      <td>5457</td>\n",
       "      <td>NaN</td>\n",
       "      <td>NaN</td>\n",
       "      <td>NaN</td>\n",
       "      <td>NaN</td>\n",
       "      <td>NaN</td>\n",
       "      <td>NaN</td>\n",
       "      <td>NaN</td>\n",
       "      <td>NaN</td>\n",
       "    </tr>\n",
       "    <tr>\n",
       "      <th>mean</th>\n",
       "      <td>5000.5</td>\n",
       "      <td>15690940.5694</td>\n",
       "      <td>NaN</td>\n",
       "      <td>650.5288</td>\n",
       "      <td>NaN</td>\n",
       "      <td>NaN</td>\n",
       "      <td>38.9218</td>\n",
       "      <td>4.997690023099769</td>\n",
       "      <td>76485.889288</td>\n",
       "      <td>1.5302</td>\n",
       "      <td>0.7055</td>\n",
       "      <td>0.5151</td>\n",
       "      <td>100090.239881</td>\n",
       "      <td>0.2037</td>\n",
       "    </tr>\n",
       "    <tr>\n",
       "      <th>std</th>\n",
       "      <td>2886.8956799071675</td>\n",
       "      <td>71936.1861227489</td>\n",
       "      <td>NaN</td>\n",
       "      <td>96.65329873613035</td>\n",
       "      <td>NaN</td>\n",
       "      <td>NaN</td>\n",
       "      <td>10.487806451704609</td>\n",
       "      <td>2.894723234821247</td>\n",
       "      <td>62397.405202385955</td>\n",
       "      <td>0.5816543579989906</td>\n",
       "      <td>0.4558404644751333</td>\n",
       "      <td>0.49979692845891893</td>\n",
       "      <td>57510.49281769816</td>\n",
       "      <td>0.4027685839948609</td>\n",
       "    </tr>\n",
       "    <tr>\n",
       "      <th>min</th>\n",
       "      <td>1.0</td>\n",
       "      <td>15565701.0</td>\n",
       "      <td>NaN</td>\n",
       "      <td>350.0</td>\n",
       "      <td>NaN</td>\n",
       "      <td>NaN</td>\n",
       "      <td>18.0</td>\n",
       "      <td>0.0</td>\n",
       "      <td>0.0</td>\n",
       "      <td>1.0</td>\n",
       "      <td>0.0</td>\n",
       "      <td>0.0</td>\n",
       "      <td>11.58</td>\n",
       "      <td>0.0</td>\n",
       "    </tr>\n",
       "    <tr>\n",
       "      <th>25%</th>\n",
       "      <td>2500.75</td>\n",
       "      <td>15628528.25</td>\n",
       "      <td>NaN</td>\n",
       "      <td>584.0</td>\n",
       "      <td>NaN</td>\n",
       "      <td>NaN</td>\n",
       "      <td>32.0</td>\n",
       "      <td>2.0</td>\n",
       "      <td>0.0</td>\n",
       "      <td>1.0</td>\n",
       "      <td>0.0</td>\n",
       "      <td>0.0</td>\n",
       "      <td>51002.11</td>\n",
       "      <td>0.0</td>\n",
       "    </tr>\n",
       "    <tr>\n",
       "      <th>50%</th>\n",
       "      <td>5000.5</td>\n",
       "      <td>15690738.0</td>\n",
       "      <td>NaN</td>\n",
       "      <td>652.0</td>\n",
       "      <td>NaN</td>\n",
       "      <td>NaN</td>\n",
       "      <td>37.0</td>\n",
       "      <td>5.0</td>\n",
       "      <td>97198.54000000001</td>\n",
       "      <td>1.0</td>\n",
       "      <td>1.0</td>\n",
       "      <td>1.0</td>\n",
       "      <td>100193.915</td>\n",
       "      <td>0.0</td>\n",
       "    </tr>\n",
       "    <tr>\n",
       "      <th>75%</th>\n",
       "      <td>7500.25</td>\n",
       "      <td>15753233.75</td>\n",
       "      <td>NaN</td>\n",
       "      <td>718.0</td>\n",
       "      <td>NaN</td>\n",
       "      <td>NaN</td>\n",
       "      <td>44.0</td>\n",
       "      <td>7.0</td>\n",
       "      <td>127644.24</td>\n",
       "      <td>2.0</td>\n",
       "      <td>1.0</td>\n",
       "      <td>1.0</td>\n",
       "      <td>149388.2475</td>\n",
       "      <td>0.0</td>\n",
       "    </tr>\n",
       "    <tr>\n",
       "      <th>max</th>\n",
       "      <td>10000.0</td>\n",
       "      <td>15815690.0</td>\n",
       "      <td>NaN</td>\n",
       "      <td>850.0</td>\n",
       "      <td>NaN</td>\n",
       "      <td>NaN</td>\n",
       "      <td>92.0</td>\n",
       "      <td>10.0</td>\n",
       "      <td>250898.09</td>\n",
       "      <td>4.0</td>\n",
       "      <td>1.0</td>\n",
       "      <td>1.0</td>\n",
       "      <td>199992.48</td>\n",
       "      <td>1.0</td>\n",
       "    </tr>\n",
       "  </tbody>\n",
       "</table>\n",
       "</div>"
      ],
      "text/plain": [
       "                RowNumber       CustomerId Surname       CreditScore  \\\n",
       "count             10000.0          10000.0   10000           10000.0   \n",
       "unique                NaN              NaN    2932               NaN   \n",
       "top                   NaN              NaN   Smith               NaN   \n",
       "freq                  NaN              NaN      32               NaN   \n",
       "mean               5000.5    15690940.5694     NaN          650.5288   \n",
       "std    2886.8956799071675 71936.1861227489     NaN 96.65329873613035   \n",
       "min                   1.0       15565701.0     NaN             350.0   \n",
       "25%               2500.75      15628528.25     NaN             584.0   \n",
       "50%                5000.5       15690738.0     NaN             652.0   \n",
       "75%               7500.25      15753233.75     NaN             718.0   \n",
       "max               10000.0       15815690.0     NaN             850.0   \n",
       "\n",
       "       Geography Gender                Age            Tenure  \\\n",
       "count      10000  10000            10000.0            9091.0   \n",
       "unique         3      2                NaN               NaN   \n",
       "top       France   Male                NaN               NaN   \n",
       "freq        5014   5457                NaN               NaN   \n",
       "mean         NaN    NaN            38.9218 4.997690023099769   \n",
       "std          NaN    NaN 10.487806451704609 2.894723234821247   \n",
       "min          NaN    NaN               18.0               0.0   \n",
       "25%          NaN    NaN               32.0               2.0   \n",
       "50%          NaN    NaN               37.0               5.0   \n",
       "75%          NaN    NaN               44.0               7.0   \n",
       "max          NaN    NaN               92.0              10.0   \n",
       "\n",
       "                  Balance      NumOfProducts          HasCrCard  \\\n",
       "count             10000.0            10000.0            10000.0   \n",
       "unique                NaN                NaN                NaN   \n",
       "top                   NaN                NaN                NaN   \n",
       "freq                  NaN                NaN                NaN   \n",
       "mean         76485.889288             1.5302             0.7055   \n",
       "std    62397.405202385955 0.5816543579989906 0.4558404644751333   \n",
       "min                   0.0                1.0                0.0   \n",
       "25%                   0.0                1.0                0.0   \n",
       "50%     97198.54000000001                1.0                1.0   \n",
       "75%             127644.24                2.0                1.0   \n",
       "max             250898.09                4.0                1.0   \n",
       "\n",
       "            IsActiveMember   EstimatedSalary             Exited  \n",
       "count              10000.0           10000.0            10000.0  \n",
       "unique                 NaN               NaN                NaN  \n",
       "top                    NaN               NaN                NaN  \n",
       "freq                   NaN               NaN                NaN  \n",
       "mean                0.5151     100090.239881             0.2037  \n",
       "std    0.49979692845891893 57510.49281769816 0.4027685839948609  \n",
       "min                    0.0             11.58                0.0  \n",
       "25%                    0.0          51002.11                0.0  \n",
       "50%                    1.0        100193.915                0.0  \n",
       "75%                    1.0       149388.2475                0.0  \n",
       "max                    1.0         199992.48                1.0  "
      ]
     },
     "metadata": {},
     "output_type": "display_data"
    }
   ],
   "source": [
    "# data review\n",
    "get_data_info(data)"
   ]
  },
  {
   "cell_type": "markdown",
   "id": "02b4f25a-ec4a-448f-8907-4fbd69af14ca",
   "metadata": {
    "tags": []
   },
   "source": [
    "### Первичное изменение датасета для удобства работы"
   ]
  },
  {
   "cell_type": "code",
   "execution_count": 7,
   "id": "d40df567-d702-437d-ba66-448fa038c965",
   "metadata": {},
   "outputs": [],
   "source": [
    "# to snake_case\n",
    "data.columns = [re.sub(r'(?<=!^)(?=[A-Z])', '_', i).lower() for i in data.columns]"
   ]
  },
  {
   "cell_type": "code",
   "execution_count": 8,
   "id": "8224b0de-edc4-4503-9ae9-82ef514e4e69",
   "metadata": {},
   "outputs": [
    {
     "data": {
      "text/plain": [
       "Index(['rownumber', 'customerid', 'surname', 'creditscore', 'geography',\n",
       "       'gender', 'age', 'tenure', 'balance', 'numofproducts', 'hascrcard',\n",
       "       'isactivemember', 'estimatedsalary', 'exited'],\n",
       "      dtype='object')"
      ]
     },
     "execution_count": 8,
     "metadata": {},
     "output_type": "execute_result"
    }
   ],
   "source": [
    "# check columns renaming\n",
    "data.columns"
   ]
  },
  {
   "cell_type": "code",
   "execution_count": 9,
   "id": "85c1da61-ec61-404b-b0e2-5a12ce6ebb79",
   "metadata": {},
   "outputs": [
    {
     "data": {
      "text/plain": [
       "rownumber            0\n",
       "customerid           0\n",
       "surname              0\n",
       "creditscore          0\n",
       "geography            0\n",
       "gender               0\n",
       "age                  0\n",
       "tenure             909\n",
       "balance              0\n",
       "numofproducts        0\n",
       "hascrcard            0\n",
       "isactivemember       0\n",
       "estimatedsalary      0\n",
       "exited               0\n",
       "dtype: int64"
      ]
     },
     "execution_count": 9,
     "metadata": {},
     "output_type": "execute_result"
    }
   ],
   "source": [
    "# смотрим пропуски\n",
    "data.isna().sum()"
   ]
  },
  {
   "cell_type": "code",
   "execution_count": 10,
   "id": "a338fac0-8765-4578-b78d-cd35b52b5f93",
   "metadata": {},
   "outputs": [
    {
     "name": "stdout",
     "output_type": "stream",
     "text": [
      "Соотношение дубликатов и уникальных значений в признаках:\n"
     ]
    },
    {
     "data": {
      "text/html": [
       "<style  type=\"text/css\" >\n",
       "#T_4005a_row0_col1,#T_4005a_row1_col1,#T_4005a_row5_col2,#T_4005a_row10_col2,#T_4005a_row11_col2,#T_4005a_row13_col2{\n",
       "            width:  10em;\n",
       "             height:  80%;\n",
       "        }#T_4005a_row0_col2,#T_4005a_row1_col2,#T_4005a_row4_col1,#T_4005a_row5_col1,#T_4005a_row9_col1,#T_4005a_row10_col1,#T_4005a_row11_col1,#T_4005a_row12_col2,#T_4005a_row13_col1{\n",
       "            width:  10em;\n",
       "             height:  80%;\n",
       "            background:  linear-gradient(90deg,#d65f5f 100.0%, transparent 100.0%);\n",
       "        }#T_4005a_row2_col1{\n",
       "            width:  10em;\n",
       "             height:  80%;\n",
       "            background:  linear-gradient(90deg,#d65f5f 70.7%, transparent 70.7%);\n",
       "        }#T_4005a_row2_col2{\n",
       "            width:  10em;\n",
       "             height:  80%;\n",
       "            background:  linear-gradient(90deg,#d65f5f 29.3%, transparent 29.3%);\n",
       "        }#T_4005a_row3_col1{\n",
       "            width:  10em;\n",
       "             height:  80%;\n",
       "            background:  linear-gradient(90deg,#d65f5f 95.4%, transparent 95.4%);\n",
       "        }#T_4005a_row3_col2{\n",
       "            width:  10em;\n",
       "             height:  80%;\n",
       "            background:  linear-gradient(90deg,#d65f5f 4.6%, transparent 4.6%);\n",
       "        }#T_4005a_row4_col2,#T_4005a_row9_col2,#T_4005a_row12_col1{\n",
       "            width:  10em;\n",
       "             height:  80%;\n",
       "            background:  linear-gradient(90deg,#d65f5f 0.0%, transparent 0.0%);\n",
       "        }#T_4005a_row6_col1{\n",
       "            width:  10em;\n",
       "             height:  80%;\n",
       "            background:  linear-gradient(90deg,#d65f5f 99.3%, transparent 99.3%);\n",
       "        }#T_4005a_row6_col2{\n",
       "            width:  10em;\n",
       "             height:  80%;\n",
       "            background:  linear-gradient(90deg,#d65f5f 0.7%, transparent 0.7%);\n",
       "        }#T_4005a_row7_col1{\n",
       "            width:  10em;\n",
       "             height:  80%;\n",
       "            background:  linear-gradient(90deg,#d65f5f 99.9%, transparent 99.9%);\n",
       "        }#T_4005a_row7_col2{\n",
       "            width:  10em;\n",
       "             height:  80%;\n",
       "            background:  linear-gradient(90deg,#d65f5f 0.1%, transparent 0.1%);\n",
       "        }#T_4005a_row8_col1{\n",
       "            width:  10em;\n",
       "             height:  80%;\n",
       "            background:  linear-gradient(90deg,#d65f5f 36.2%, transparent 36.2%);\n",
       "        }#T_4005a_row8_col2{\n",
       "            width:  10em;\n",
       "             height:  80%;\n",
       "            background:  linear-gradient(90deg,#d65f5f 63.8%, transparent 63.8%);\n",
       "        }</style><table id=\"T_4005a_\" ><thead>    <tr>        <th class=\"blank level0\" ></th>        <th class=\"col_heading level0 col0\" >Признак</th>        <th class=\"col_heading level0 col1\" >Количество дубликатов</th>        <th class=\"col_heading level0 col2\" >Количество уникальных значений</th>    </tr></thead><tbody>\n",
       "                <tr>\n",
       "                        <th id=\"T_4005a_level0_row0\" class=\"row_heading level0 row0\" >0</th>\n",
       "                        <td id=\"T_4005a_row0_col0\" class=\"data row0 col0\" >rownumber</td>\n",
       "                        <td id=\"T_4005a_row0_col1\" class=\"data row0 col1\" >0</td>\n",
       "                        <td id=\"T_4005a_row0_col2\" class=\"data row0 col2\" >10000</td>\n",
       "            </tr>\n",
       "            <tr>\n",
       "                        <th id=\"T_4005a_level0_row1\" class=\"row_heading level0 row1\" >1</th>\n",
       "                        <td id=\"T_4005a_row1_col0\" class=\"data row1 col0\" >customerid</td>\n",
       "                        <td id=\"T_4005a_row1_col1\" class=\"data row1 col1\" >0</td>\n",
       "                        <td id=\"T_4005a_row1_col2\" class=\"data row1 col2\" >10000</td>\n",
       "            </tr>\n",
       "            <tr>\n",
       "                        <th id=\"T_4005a_level0_row2\" class=\"row_heading level0 row2\" >2</th>\n",
       "                        <td id=\"T_4005a_row2_col0\" class=\"data row2 col0\" >surname</td>\n",
       "                        <td id=\"T_4005a_row2_col1\" class=\"data row2 col1\" >7068</td>\n",
       "                        <td id=\"T_4005a_row2_col2\" class=\"data row2 col2\" >2932</td>\n",
       "            </tr>\n",
       "            <tr>\n",
       "                        <th id=\"T_4005a_level0_row3\" class=\"row_heading level0 row3\" >3</th>\n",
       "                        <td id=\"T_4005a_row3_col0\" class=\"data row3 col0\" >creditscore</td>\n",
       "                        <td id=\"T_4005a_row3_col1\" class=\"data row3 col1\" >9540</td>\n",
       "                        <td id=\"T_4005a_row3_col2\" class=\"data row3 col2\" >460</td>\n",
       "            </tr>\n",
       "            <tr>\n",
       "                        <th id=\"T_4005a_level0_row4\" class=\"row_heading level0 row4\" >4</th>\n",
       "                        <td id=\"T_4005a_row4_col0\" class=\"data row4 col0\" >geography</td>\n",
       "                        <td id=\"T_4005a_row4_col1\" class=\"data row4 col1\" >9997</td>\n",
       "                        <td id=\"T_4005a_row4_col2\" class=\"data row4 col2\" >3</td>\n",
       "            </tr>\n",
       "            <tr>\n",
       "                        <th id=\"T_4005a_level0_row5\" class=\"row_heading level0 row5\" >5</th>\n",
       "                        <td id=\"T_4005a_row5_col0\" class=\"data row5 col0\" >gender</td>\n",
       "                        <td id=\"T_4005a_row5_col1\" class=\"data row5 col1\" >9998</td>\n",
       "                        <td id=\"T_4005a_row5_col2\" class=\"data row5 col2\" >2</td>\n",
       "            </tr>\n",
       "            <tr>\n",
       "                        <th id=\"T_4005a_level0_row6\" class=\"row_heading level0 row6\" >6</th>\n",
       "                        <td id=\"T_4005a_row6_col0\" class=\"data row6 col0\" >age</td>\n",
       "                        <td id=\"T_4005a_row6_col1\" class=\"data row6 col1\" >9930</td>\n",
       "                        <td id=\"T_4005a_row6_col2\" class=\"data row6 col2\" >70</td>\n",
       "            </tr>\n",
       "            <tr>\n",
       "                        <th id=\"T_4005a_level0_row7\" class=\"row_heading level0 row7\" >7</th>\n",
       "                        <td id=\"T_4005a_row7_col0\" class=\"data row7 col0\" >tenure</td>\n",
       "                        <td id=\"T_4005a_row7_col1\" class=\"data row7 col1\" >9988</td>\n",
       "                        <td id=\"T_4005a_row7_col2\" class=\"data row7 col2\" >12</td>\n",
       "            </tr>\n",
       "            <tr>\n",
       "                        <th id=\"T_4005a_level0_row8\" class=\"row_heading level0 row8\" >8</th>\n",
       "                        <td id=\"T_4005a_row8_col0\" class=\"data row8 col0\" >balance</td>\n",
       "                        <td id=\"T_4005a_row8_col1\" class=\"data row8 col1\" >3618</td>\n",
       "                        <td id=\"T_4005a_row8_col2\" class=\"data row8 col2\" >6382</td>\n",
       "            </tr>\n",
       "            <tr>\n",
       "                        <th id=\"T_4005a_level0_row9\" class=\"row_heading level0 row9\" >9</th>\n",
       "                        <td id=\"T_4005a_row9_col0\" class=\"data row9 col0\" >numofproducts</td>\n",
       "                        <td id=\"T_4005a_row9_col1\" class=\"data row9 col1\" >9996</td>\n",
       "                        <td id=\"T_4005a_row9_col2\" class=\"data row9 col2\" >4</td>\n",
       "            </tr>\n",
       "            <tr>\n",
       "                        <th id=\"T_4005a_level0_row10\" class=\"row_heading level0 row10\" >10</th>\n",
       "                        <td id=\"T_4005a_row10_col0\" class=\"data row10 col0\" >hascrcard</td>\n",
       "                        <td id=\"T_4005a_row10_col1\" class=\"data row10 col1\" >9998</td>\n",
       "                        <td id=\"T_4005a_row10_col2\" class=\"data row10 col2\" >2</td>\n",
       "            </tr>\n",
       "            <tr>\n",
       "                        <th id=\"T_4005a_level0_row11\" class=\"row_heading level0 row11\" >11</th>\n",
       "                        <td id=\"T_4005a_row11_col0\" class=\"data row11 col0\" >isactivemember</td>\n",
       "                        <td id=\"T_4005a_row11_col1\" class=\"data row11 col1\" >9998</td>\n",
       "                        <td id=\"T_4005a_row11_col2\" class=\"data row11 col2\" >2</td>\n",
       "            </tr>\n",
       "            <tr>\n",
       "                        <th id=\"T_4005a_level0_row12\" class=\"row_heading level0 row12\" >12</th>\n",
       "                        <td id=\"T_4005a_row12_col0\" class=\"data row12 col0\" >estimatedsalary</td>\n",
       "                        <td id=\"T_4005a_row12_col1\" class=\"data row12 col1\" >1</td>\n",
       "                        <td id=\"T_4005a_row12_col2\" class=\"data row12 col2\" >9999</td>\n",
       "            </tr>\n",
       "            <tr>\n",
       "                        <th id=\"T_4005a_level0_row13\" class=\"row_heading level0 row13\" >13</th>\n",
       "                        <td id=\"T_4005a_row13_col0\" class=\"data row13 col0\" >exited</td>\n",
       "                        <td id=\"T_4005a_row13_col1\" class=\"data row13 col1\" >9998</td>\n",
       "                        <td id=\"T_4005a_row13_col2\" class=\"data row13 col2\" >2</td>\n",
       "            </tr>\n",
       "    </tbody></table>"
      ],
      "text/plain": [
       "<pandas.io.formats.style.Styler at 0x1d364b02370>"
      ]
     },
     "execution_count": 10,
     "metadata": {},
     "output_type": "execute_result"
    }
   ],
   "source": [
    "# смотрим дубликаты\n",
    "print('Соотношение дубликатов и уникальных значений в признаках:')\n",
    "duplicates_list = []\n",
    "unique_list = []\n",
    "for column_name in data.columns:\n",
    "    duplicates_list.append(data[column_name].duplicated().sum())\n",
    "    unique_list.append(len(data[column_name].unique()))\n",
    "pivot = pd.DataFrame()\n",
    "pivot['Признак'] = data.columns\n",
    "pivot['Количество дубликатов'] = duplicates_list\n",
    "pivot['Количество уникальных значений'] = unique_list\n",
    "\n",
    "pivot.style.bar()"
   ]
  },
  {
   "cell_type": "markdown",
   "id": "d8e3e275-18b8-4fac-aafd-d3de93581441",
   "metadata": {},
   "source": []
  },
  {
   "cell_type": "markdown",
   "id": "8e41aff7-1c9e-4a2d-9ffe-91ee55759576",
   "metadata": {
    "tags": []
   },
   "source": [
    "#### column 'tenure'\n",
    "В колонке есть пропуски. Nan заполним значением 0"
   ]
  },
  {
   "cell_type": "code",
   "execution_count": 11,
   "id": "e78cb989-cb76-4cb0-ad9b-6bf5986bd754",
   "metadata": {},
   "outputs": [],
   "source": [
    "data.tenure = data.tenure.fillna(0)"
   ]
  },
  {
   "cell_type": "code",
   "execution_count": 12,
   "id": "4650992b-c7f1-4bcf-aaf6-03da2edb9092",
   "metadata": {},
   "outputs": [
    {
     "data": {
      "text/plain": [
       "0.0     1291\n",
       "1.0      952\n",
       "2.0      950\n",
       "8.0      933\n",
       "3.0      928\n",
       "5.0      927\n",
       "7.0      925\n",
       "4.0      885\n",
       "9.0      882\n",
       "6.0      881\n",
       "10.0     446\n",
       "Name: tenure, dtype: int64"
      ]
     },
     "execution_count": 12,
     "metadata": {},
     "output_type": "execute_result"
    }
   ],
   "source": [
    "# check tenure nan filling to 0\n",
    "data.tenure.value_counts()"
   ]
  },
  {
   "cell_type": "markdown",
   "id": "bd987673-0449-4483-8d07-50fd2972bc60",
   "metadata": {},
   "source": [
    "#### column 'row_number'\n",
    "Совпадает с индексом. Для обучения модели не пригодится. Удаляем"
   ]
  },
  {
   "cell_type": "code",
   "execution_count": 13,
   "id": "82e6f441-119f-473f-ba00-ed048d6aa9ab",
   "metadata": {},
   "outputs": [],
   "source": [
    "data = data.drop(['rownumber'], axis=1)"
   ]
  },
  {
   "cell_type": "markdown",
   "id": "9af9dcfd-178c-433a-8d81-be66f35cfd9a",
   "metadata": {},
   "source": [
    "#### column 'surname'\n",
    "Много дубликатов. Похоже на синтетические данные. Для обучения модели не пригодится. Удаляем"
   ]
  },
  {
   "cell_type": "code",
   "execution_count": 14,
   "id": "20fc4177-5048-44f0-af5a-f093f582790c",
   "metadata": {},
   "outputs": [
    {
     "data": {
      "text/plain": [
       "Smith        32\n",
       "Martin       29\n",
       "Scott        29\n",
       "Walker       28\n",
       "Brown        26\n",
       "Genovese     25\n",
       "Yeh          25\n",
       "Shih         25\n",
       "Maclean      24\n",
       "Wright       24\n",
       "Wilson       23\n",
       "Ma           23\n",
       "White        23\n",
       "Fanucci      23\n",
       "Lu           22\n",
       "Wang         22\n",
       "Johnson      22\n",
       "Moore        22\n",
       "Chu          22\n",
       "Mai          21\n",
       "McGregor     21\n",
       "Thompson     21\n",
       "Sun          21\n",
       "Kao          20\n",
       "Fang         20\n",
       "Lo           20\n",
       "Palerma      20\n",
       "Kennedy      20\n",
       "Kerr         20\n",
       "Trevisani    20\n",
       "Name: surname, dtype: int64"
      ]
     },
     "execution_count": 14,
     "metadata": {},
     "output_type": "execute_result"
    }
   ],
   "source": [
    "# смотрим на распределение фамилий\n",
    "data.surname.value_counts().head(30)"
   ]
  },
  {
   "cell_type": "code",
   "execution_count": 15,
   "id": "61088b70-01cb-4310-b9c5-7f736d807b63",
   "metadata": {},
   "outputs": [],
   "source": [
    "data = data.drop(['surname'], axis=1)"
   ]
  },
  {
   "cell_type": "markdown",
   "id": "60ca6968-990a-495f-be7d-85c424342f4f",
   "metadata": {},
   "source": [
    "#### column 'customer_id'\n",
    "Все значения уникальны, рандомны. Для обучения модели не нужны. Удаляем"
   ]
  },
  {
   "cell_type": "code",
   "execution_count": 16,
   "id": "a49255b3-965e-4945-8709-3b048ee6e83a",
   "metadata": {},
   "outputs": [],
   "source": [
    "data = data.drop(['customerid'], axis=1)"
   ]
  },
  {
   "cell_type": "code",
   "execution_count": 17,
   "id": "0ea7454d-24ed-4acc-8828-444363353521",
   "metadata": {},
   "outputs": [
    {
     "data": {
      "text/plain": [
       "['creditscore',\n",
       " 'geography',\n",
       " 'gender',\n",
       " 'age',\n",
       " 'tenure',\n",
       " 'balance',\n",
       " 'numofproducts',\n",
       " 'hascrcard',\n",
       " 'isactivemember',\n",
       " 'estimatedsalary',\n",
       " 'exited']"
      ]
     },
     "execution_count": 17,
     "metadata": {},
     "output_type": "execute_result"
    }
   ],
   "source": [
    "# check final columns count\n",
    "data.columns.to_list()"
   ]
  },
  {
   "cell_type": "markdown",
   "id": "9d7c5645-2c0f-4b62-957f-825ba8130db9",
   "metadata": {
    "tags": []
   },
   "source": [
    "#### Проверка корреляции признаков"
   ]
  },
  {
   "cell_type": "markdown",
   "id": "b7eb1c23-ac09-4733-901e-db59371a72db",
   "metadata": {},
   "source": [
    "##### Мультиколлинеарность"
   ]
  },
  {
   "cell_type": "markdown",
   "id": "550e2e82-574b-4586-9432-35f64f97c13c",
   "metadata": {},
   "source": [
    "Исследование мультиколлинеарности необходимо для выявления сильно связанных признаков, которые могут помешать в обучении модели своей связанностью."
   ]
  },
  {
   "cell_type": "code",
   "execution_count": 18,
   "id": "0865319e-93e9-4011-a6be-100e80958c59",
   "metadata": {},
   "outputs": [
    {
     "data": {
      "image/png": "[encoded data removed]",
      "text/plain": [
       "<Figure size 700x700 with 2 Axes>"
      ]
     },
     "metadata": {},
     "output_type": "display_data"
    }
   ],
   "source": [
    "spearman = data.drop(['exited'], axis=1).corr(method='spearman')\n",
    "sns.heatmap(data=spearman,annot=True)\n",
    "plt.gcf().set_size_inches(7,7);"
   ]
  },
  {
   "cell_type": "markdown",
   "id": "e33077c4-2862-40ce-9020-141db1f8d5cc",
   "metadata": {},
   "source": [
    "Вывод: Сильносвязанных признаков не выявлено. Значит дополнительно удалять признаки из датасета для корректного обучения моделей не нужно. Отмечается отрицательная обратная связь признаков `balance` и `numberofproducts`, но она обучению моделей не помешает."
   ]
  },
  {
   "cell_type": "markdown",
   "id": "ad8396b0-c5b6-420c-b08f-3ad023bc2ddd",
   "metadata": {},
   "source": [
    "##### Исследование корреляции признаков по парам"
   ]
  },
  {
   "cell_type": "code",
   "execution_count": 19,
   "id": "6b00cd51-0524-4413-b4fb-e91a5da23b29",
   "metadata": {},
   "outputs": [
    {
     "data": {
      "image/png": "[encoded data removed]",
      "text/plain": [
       "<Figure size 700x700 with 12 Axes>"
      ]
     },
     "metadata": {},
     "output_type": "display_data"
    }
   ],
   "source": [
    "pairplot = data.drop(['tenure', 'balance', 'creditscore', 'hascrcard', 'isactivemember'], axis=1)\n",
    "sns.pairplot(pairplot, hue = 'exited')\n",
    "plt.gcf().set_size_inches(7,7);"
   ]
  },
  {
   "cell_type": "markdown",
   "id": "5a2cb485-8888-4dcf-886a-6030ab1877b2",
   "metadata": {},
   "source": [
    "Выше построены графики взаимосвязи признаков по парам, отностительно признака `exited`. \n",
    "Зависимости видны по признакам `age`, `estimatedsalary` и `balance`.\n",
    "Первичная оценка факта ухода клиентов по этому графику приводит к мысли, что уходят клиенты ~ 50 лет с малым количеством продуктов и невысокой заработной платной."
   ]
  },
  {
   "cell_type": "markdown",
   "id": "228ebe5c-51c8-46f6-b3b2-22735eebd85e",
   "metadata": {
    "tags": []
   },
   "source": [
    "### Разделение датасета на признаки и целевые признаки"
   ]
  },
  {
   "cell_type": "code",
   "execution_count": 20,
   "id": "c9db35ea-22f2-4d1a-87e9-3d2ebda0da8e",
   "metadata": {},
   "outputs": [
    {
     "data": {
      "text/plain": [
       "((10000, 10), (10000,))"
      ]
     },
     "execution_count": 20,
     "metadata": {},
     "output_type": "execute_result"
    }
   ],
   "source": [
    "# разбиваем датасет на фичи и целевой признак\n",
    "features = data.drop(['exited'], axis=1)\n",
    "target = data.exited\n",
    "features.shape, target.shape"
   ]
  },
  {
   "cell_type": "markdown",
   "id": "219c5548-a17b-46f0-9140-a293839bd468",
   "metadata": {
    "tags": []
   },
   "source": [
    "### Разделение датасета на выборки"
   ]
  },
  {
   "cell_type": "markdown",
   "id": "b4403ebf-9fd1-482c-b321-99a9c2577858",
   "metadata": {},
   "source": [
    "разбивать датасет будем сразу на три выборки:\n",
    "- обучающую (train): 60%\n",
    "- валидационную (valid): 20%\n",
    "- тестовую (test): 20%"
   ]
  },
  {
   "cell_type": "code",
   "execution_count": 21,
   "id": "c6730dc3-1c7f-4493-aa6c-f3cd4452142e",
   "metadata": {},
   "outputs": [],
   "source": [
    "# отделение 20% данных для валидационной выборки\n",
    "features_train, features_valid, target_train, target_valid = train_test_split(\n",
    "    features, \n",
    "    target,\n",
    "    train_size = .60,\n",
    "    random_state = RND_STATE,\n",
    "    stratify=target\n",
    ")\n",
    "# отделение 20% данных для валидационной выборки\n",
    "features_test, features_valid, target_test, target_valid = train_test_split(\n",
    "    features_valid, \n",
    "    target_valid, \n",
    "    train_size = 0.5, \n",
    "    random_state = RND_STATE, \n",
    "    stratify=target_valid\n",
    ")"
   ]
  },
  {
   "cell_type": "code",
   "execution_count": 22,
   "id": "994cd69c-8bde-4b66-8ae7-7e5702d2b80d",
   "metadata": {
    "tags": []
   },
   "outputs": [
    {
     "data": {
      "text/html": [
       "<div>\n",
       "<style scoped>\n",
       "    .dataframe tbody tr th:only-of-type {\n",
       "        vertical-align: middle;\n",
       "    }\n",
       "\n",
       "    .dataframe tbody tr th {\n",
       "        vertical-align: top;\n",
       "    }\n",
       "\n",
       "    .dataframe thead th {\n",
       "        text-align: right;\n",
       "    }\n",
       "</style>\n",
       "<table border=\"1\" class=\"dataframe\">\n",
       "  <thead>\n",
       "    <tr style=\"text-align: right;\">\n",
       "      <th></th>\n",
       "      <th>split_name</th>\n",
       "      <th>rows</th>\n",
       "      <th>size</th>\n",
       "    </tr>\n",
       "  </thead>\n",
       "  <tbody>\n",
       "    <tr>\n",
       "      <th>0</th>\n",
       "      <td>features_train</td>\n",
       "      <td>6000</td>\n",
       "      <td>0.6</td>\n",
       "    </tr>\n",
       "    <tr>\n",
       "      <th>1</th>\n",
       "      <td>target_train</td>\n",
       "      <td>6000</td>\n",
       "      <td>0.6</td>\n",
       "    </tr>\n",
       "    <tr>\n",
       "      <th>2</th>\n",
       "      <td>features_valid</td>\n",
       "      <td>2000</td>\n",
       "      <td>0.2</td>\n",
       "    </tr>\n",
       "    <tr>\n",
       "      <th>3</th>\n",
       "      <td>target_valid</td>\n",
       "      <td>2000</td>\n",
       "      <td>0.2</td>\n",
       "    </tr>\n",
       "    <tr>\n",
       "      <th>4</th>\n",
       "      <td>features_test</td>\n",
       "      <td>2000</td>\n",
       "      <td>0.2</td>\n",
       "    </tr>\n",
       "    <tr>\n",
       "      <th>5</th>\n",
       "      <td>target_test</td>\n",
       "      <td>2000</td>\n",
       "      <td>0.2</td>\n",
       "    </tr>\n",
       "  </tbody>\n",
       "</table>\n",
       "</div>"
      ],
      "text/plain": [
       "       split_name  rows  size\n",
       "0  features_train  6000   0.6\n",
       "1    target_train  6000   0.6\n",
       "2  features_valid  2000   0.2\n",
       "3    target_valid  2000   0.2\n",
       "4   features_test  2000   0.2\n",
       "5     target_test  2000   0.2"
      ]
     },
     "execution_count": 22,
     "metadata": {},
     "output_type": "execute_result"
    }
   ],
   "source": [
    "# check\n",
    "features_train_size = len(features_train)/len(features)\n",
    "target_train_size = len(target_train)/len(target)\n",
    "features_valid_size = len(features_valid)/len(features)\n",
    "target_valid_size = len(target_valid)/len(target)\n",
    "features_test_size = len(features_test)/len(features)\n",
    "target_test_size = len(target_test)/len(target)\n",
    "\n",
    "splits = pd.DataFrame(\n",
    "    {'split_name' : [\n",
    "        'features_train', \n",
    "        'target_train', \n",
    "        'features_valid', \n",
    "        'target_valid', \n",
    "        'features_test', \n",
    "        'target_test'],\n",
    "    'rows' : [\n",
    "        len(features_train), \n",
    "        len(target_train), \n",
    "        len(features_valid), \n",
    "        len(target_valid), \n",
    "        len(features_test), \n",
    "        len(target_test)],\n",
    "    'size' : [\n",
    "        features_train_size, \n",
    "        target_train_size, \n",
    "        features_valid_size, \n",
    "        target_valid_size,\n",
    "        features_test_size, \n",
    "        target_test_size]})\n",
    "splits"
   ]
  },
  {
   "cell_type": "markdown",
   "id": "616d8d36-f3f5-4700-b403-d833f5d58996",
   "metadata": {
    "tags": []
   },
   "source": [
    "### Подготовка признаков"
   ]
  },
  {
   "cell_type": "markdown",
   "id": "99db6297-0136-4647-80e9-903f7443719f",
   "metadata": {},
   "source": [
    "#### список категориальных признаков"
   ]
  },
  {
   "cell_type": "code",
   "execution_count": 23,
   "id": "764555df-87d1-4e2c-8591-9b65769d8a1a",
   "metadata": {},
   "outputs": [
    {
     "data": {
      "text/plain": [
       "['geography', 'gender']"
      ]
     },
     "execution_count": 23,
     "metadata": {},
     "output_type": "execute_result"
    }
   ],
   "source": [
    "cat_features = data.select_dtypes(include='object').columns.to_list()\n",
    "cat_features"
   ]
  },
  {
   "cell_type": "markdown",
   "id": "a34a8737-fcea-4674-aab2-4953e7ba5661",
   "metadata": {},
   "source": [
    "#### список численных признаков"
   ]
  },
  {
   "cell_type": "code",
   "execution_count": 24,
   "id": "7c76a0ec-db95-4d9e-9461-5aae0ca7d854",
   "metadata": {},
   "outputs": [
    {
     "data": {
      "text/plain": [
       "['creditscore', 'age', 'tenure', 'balance', 'numofproducts', 'estimatedsalary']"
      ]
     },
     "execution_count": 24,
     "metadata": {},
     "output_type": "execute_result"
    }
   ],
   "source": [
    "numeric_features = data.select_dtypes(exclude='object').columns.to_list()\n",
    "numeric_features.remove('exited') # целевой признак\n",
    "numeric_features.remove('hascrcard') # категориальный и бинарный\n",
    "numeric_features.remove('isactivemember') # категориальный и бинарный\n",
    "numeric_features"
   ]
  },
  {
   "cell_type": "markdown",
   "id": "852d3207-8ee8-4317-a939-ae13f9a81b12",
   "metadata": {
    "tags": []
   },
   "source": [
    "#### Кодирование и масштабирование"
   ]
  },
  {
   "cell_type": "code",
   "execution_count": 25,
   "id": "e91a78e1-bded-4227-aa93-bd8becb6b4f1",
   "metadata": {},
   "outputs": [],
   "source": [
    "## Кодирование категориальных признаков техникой One-Hot Encoding\n",
    "# drop='first' удаляет первый признак из закодированных:\n",
    "# таким образом обходим dummy-ловушку\n",
    "# задаём handle_unknown='ignore':\n",
    "# игнорируется ранее невстречающиеся значения признака (при transform)\n",
    "encoder_ohe = OneHotEncoder(drop='first', handle_unknown='ignore', sparse=False)\n",
    "\n",
    "# обучаем энкодер на заданных категориальных признаках тренировочной выборки\n",
    "encoder_ohe.fit(features_train[cat_features])\n",
    "\n",
    "# добавляем закодированные признаки в features_train\n",
    "# encoder_ohe.get_feature_names_out() позволяет получить названия колонок\n",
    "features_train[\n",
    "    encoder_ohe.get_feature_names_out()\n",
    "] = encoder_ohe.transform(features_train[cat_features])\n",
    "\n",
    "# удаляем незакодированные категориальные признаки (изначальные колонки)\n",
    "features_train = features_train.drop(cat_features, axis=1)"
   ]
  },
  {
   "cell_type": "code",
   "execution_count": 26,
   "id": "d4bf8e1a-558f-4534-affe-040dcd959932",
   "metadata": {},
   "outputs": [],
   "source": [
    "## Масштабирование численных признаков техникой StandardScaler\n",
    "# создаём скелер\n",
    "scaler = StandardScaler()\n",
    "\n",
    "# обучаем его на численных признаках тренировочной выборки, трансформируем её же\n",
    "features_train[numeric_features] = scaler.fit_transform(features_train[numeric_features])"
   ]
  },
  {
   "cell_type": "code",
   "execution_count": 27,
   "id": "1144dbd1-6fb0-400d-beb1-49da991e2957",
   "metadata": {},
   "outputs": [],
   "source": [
    "# энкодером, который обучен на ТРЕНИРОВОЧНОЙ ВЫБОРКЕ, кодируем валидационную\n",
    "features_valid[\n",
    "    encoder_ohe.get_feature_names_out()\n",
    "] = encoder_ohe.transform(features_valid[cat_features])\n",
    "\n",
    "features_valid = features_valid.drop(cat_features, axis=1)\n",
    "\n",
    "# скелером, который обучен на ТРЕНИРОВОЧНОЙ ВЫБОРКЕ, масштабируем валидационную\n",
    "features_valid[numeric_features] = scaler.transform(features_valid[numeric_features])"
   ]
  },
  {
   "cell_type": "code",
   "execution_count": 28,
   "id": "ba0255ab-fafb-44dd-b170-778832ba8efa",
   "metadata": {},
   "outputs": [],
   "source": [
    "# энкодером, который обучен на ТРЕНИРОВОЧНОЙ ВЫБОРКЕ, кодируем тестовую\n",
    "features_test[\n",
    "    encoder_ohe.get_feature_names_out()\n",
    "] = encoder_ohe.transform(features_test[cat_features])\n",
    "\n",
    "features_test = features_test.drop(cat_features, axis=1)\n",
    "\n",
    "# скелером, который обучен на ТРЕНИРОВОЧНОЙ ВЫБОРКЕ, масштабируем тестовую\n",
    "features_test[numeric_features] = scaler.transform(features_test[numeric_features])"
   ]
  },
  {
   "cell_type": "markdown",
   "id": "e210ce7f-5f83-4522-8495-407179cf2e46",
   "metadata": {
    "tags": []
   },
   "source": [
    "### Исследование баланса классов"
   ]
  },
  {
   "cell_type": "code",
   "execution_count": 29,
   "id": "3b0e02d3-ac70-4ba8-a478-9710007b8526",
   "metadata": {},
   "outputs": [
    {
     "name": "stdout",
     "output_type": "stream",
     "text": [
      "0   0.7963\n",
      "1   0.2037\n",
      "Name: exited, dtype: float64\n"
     ]
    },
    {
     "data": {
      "image/png": "[encoded data removed]",
      "text/plain": [
       "<Figure size 640x480 with 1 Axes>"
      ]
     },
     "metadata": {},
     "output_type": "display_data"
    }
   ],
   "source": [
    "# проверяем развесовку классов целевого признака до балансировки\n",
    "target_class_frequency = target.value_counts(normalize=True)\n",
    "print(target_class_frequency);\n",
    "target_class_frequency.plot(kind='bar', xlabel='exited', ylabel='frequency', title='Баланс классов до балансировки');"
   ]
  },
  {
   "cell_type": "raw",
   "id": "cfdfd3de-7ed1-47ca-a6f8-3babaf493802",
   "metadata": {},
   "source": [
    "up_class_frequency = up_target.value_counts(normalize=True)\n",
    "up_class_frequency.plot(kind='bar', xlabel='exited', ylabel='frequency', title='Баланс классов upsampled');"
   ]
  },
  {
   "cell_type": "raw",
   "id": "da66a52e-d37b-4d60-aba6-2669c28a2f85",
   "metadata": {},
   "source": [
    "down_class_frequency = down_target.value_counts(normalize=True)\n",
    "down_class_frequency.plot(kind='bar', xlabel='exited', ylabel='frequency', title='Баланс классов downsampled');"
   ]
  },
  {
   "cell_type": "markdown",
   "id": "354242d6-7888-406e-8637-0aae6e6ecf71",
   "metadata": {
    "tags": []
   },
   "source": [
    "## Балансировка обучающих выборок"
   ]
  },
  {
   "cell_type": "markdown",
   "id": "62832c09-15ed-4018-9873-b05aecf7764e",
   "metadata": {
    "tags": []
   },
   "source": [
    "### Увеличение выборки"
   ]
  },
  {
   "cell_type": "code",
   "execution_count": 30,
   "id": "85e5dd1b-365a-4805-8d98-f187a71d42e8",
   "metadata": {},
   "outputs": [
    {
     "data": {
      "text/plain": [
       "((9556, 11), (9556,))"
      ]
     },
     "execution_count": 30,
     "metadata": {},
     "output_type": "execute_result"
    }
   ],
   "source": [
    "# Техника избыточной выборки синтетических меньшинств (SMOTE) только на обучающей выборке\n",
    "sm_cat = SMOTENC(random_state=RND_STATE, categorical_features=[1, 2])\n",
    "features_upsampled, target_upsampled = sm_cat.fit_resample(features_train, target_train)\n",
    "features_upsampled.shape, target_upsampled.shape"
   ]
  },
  {
   "cell_type": "code",
   "execution_count": 31,
   "id": "37401676-17c8-4a02-b774-fd3b7ddd7d20",
   "metadata": {},
   "outputs": [
    {
     "name": "stdout",
     "output_type": "stream",
     "text": [
      "0    4778\n",
      "1    4778\n",
      "Name: exited, dtype: int64\n"
     ]
    },
    {
     "data": {
      "image/png": "[encoded data removed]",
      "text/plain": [
       "<Figure size 640x480 with 1 Axes>"
      ]
     },
     "metadata": {},
     "output_type": "display_data"
    }
   ],
   "source": [
    "# проверяем развесовку классов целевого признака UPSAMPLING\n",
    "target_class_frequency_upsampled = target_upsampled.value_counts(normalize=False)\n",
    "print(target_class_frequency_upsampled);\n",
    "target_class_frequency_upsampled.plot(kind='bar', xlabel='exited', ylabel='frequency', title='Баланс классов UPSAMPLING');"
   ]
  },
  {
   "cell_type": "markdown",
   "id": "74a256dd-5bb5-4c44-abcc-e3025fbaa7ee",
   "metadata": {
    "tags": []
   },
   "source": [
    "### Уменьшение выборки"
   ]
  },
  {
   "cell_type": "code",
   "execution_count": 32,
   "id": "ad1797f4-c262-4b0b-9299-d40ad000f65b",
   "metadata": {},
   "outputs": [
    {
     "data": {
      "text/plain": [
       "((2444, 11), (2444,))"
      ]
     },
     "execution_count": 32,
     "metadata": {},
     "output_type": "execute_result"
    }
   ],
   "source": [
    "rus = RandomUnderSampler(random_state=RND_STATE)\n",
    "features_downsampled, target_downsampled = rus.fit_resample(features_train, target_train)\n",
    "features_downsampled.shape, target_downsampled.shape"
   ]
  },
  {
   "cell_type": "code",
   "execution_count": 33,
   "id": "7eec6cf2-66cd-4c90-b8f7-b6f7861cff36",
   "metadata": {},
   "outputs": [
    {
     "name": "stdout",
     "output_type": "stream",
     "text": [
      "0    1222\n",
      "1    1222\n",
      "Name: exited, dtype: int64\n"
     ]
    },
    {
     "data": {
      "image/png": "[encoded data removed]",
      "text/plain": [
       "<Figure size 640x480 with 1 Axes>"
      ]
     },
     "metadata": {},
     "output_type": "display_data"
    }
   ],
   "source": [
    "# проверяем развесовку классов целевого признака DOWNSAMPLING\n",
    "target_class_frequency_downsampled = target_downsampled.value_counts(normalize=False)\n",
    "print(target_class_frequency_downsampled);\n",
    "target_class_frequency_downsampled.plot(kind='bar', xlabel='exited', ylabel='frequency', title='Баланс классов DOWNSAMPLING');"
   ]
  },
  {
   "cell_type": "markdown",
   "id": "a4a617e8-0533-438a-9696-8359f51fbd97",
   "metadata": {},
   "source": [
    "### Выводы:\n",
    "Изучена основная выборка и баланс класса целевого признака. Выборка не сбалансированная, что означает возможные сложности с качественным обучением моделей. Принято решение о балансировке основной выборки двумя техниками. Для увеличения выборки применена техника SMOTENC, работающая в том числе и с категориальными признаками. Для уменьшения выборки применена техника RandomUnderSampler. \n",
    "\n",
    "Важно отметить, что балансировка выборок проведена после кодирования категориальных признаков и масштабирования численных признаков. Это сделано с двумя целями. Во-первых сокращение необходимого объема кода и соответственно упрощение как кода, так и названий переменных. Во-вторых это позволяет более точно настроить и провести масштабирование созданным скелером."
   ]
  },
  {
   "cell_type": "raw",
   "id": "89a3db97-db69-4372-b4c6-72de841181bc",
   "metadata": {},
   "source": [
    "def upsample(features, target, repeat):\n",
    "    features_zeros = features[target == 0]\n",
    "    features_ones = features[target == 1]\n",
    "    target_zeros = target[target == 0]\n",
    "    target_ones = target[target == 1]\n",
    "\n",
    "    features_upsampled = pd.concat([features_zeros] + [features_ones] * repeat)\n",
    "    target_upsampled = pd.concat([target_zeros] + [target_ones] * repeat)\n",
    "    \n",
    "    features_upsampled, target_upsampled = shuffle(features_upsampled, target_upsampled, random_state=RND_STATE)\n",
    "    \n",
    "    return features_upsampled, target_upsampled"
   ]
  },
  {
   "cell_type": "raw",
   "id": "5af2843f-e195-4271-8bbb-248893070e4c",
   "metadata": {},
   "source": [
    "# features & target upsampling\n",
    "up_features, up_target = upsample(features, target, 10)\n",
    "up_features.shape, up_target.shape"
   ]
  },
  {
   "cell_type": "raw",
   "id": "28fe85cf-92fb-46ac-b27e-1ecb998f0014",
   "metadata": {},
   "source": [
    "def downsample(features, target, fraction):\n",
    "    features_zeros = features[target == 0]\n",
    "    features_ones = features[target == 1]\n",
    "    target_zeros = target[target == 0]\n",
    "    target_ones = target[target == 1]\n",
    "    \n",
    "    features_downsampled = pd.concat([features_zeros.sample(frac=fraction, random_state=RND_STATE)] + [features_ones])\n",
    "    target_downsampled = pd.concat([target_zeros.sample(frac=fraction, random_state=RND_STATE)] + [target_ones])\n",
    "    \n",
    "    features_downsampled, target_downsampled = shuffle(\n",
    "        features_downsampled, target_downsampled, random_state=RND_STATE)\n",
    "    \n",
    "    return features_downsampled, target_downsampled"
   ]
  },
  {
   "cell_type": "markdown",
   "id": "d97ebddb-c489-4d19-ada6-a91b2522cbff",
   "metadata": {
    "tags": []
   },
   "source": [
    "## Выбор и обучение моделей"
   ]
  },
  {
   "cell_type": "markdown",
   "id": "910412c3-ef1a-4948-a78c-f325aaa7d2fc",
   "metadata": {},
   "source": [
    "Наша задача является задачей классификации, поскольку целевой признак `'exited'` не является непрерывной величиной. Для обучения будем использовать модели Классификации"
   ]
  },
  {
   "cell_type": "markdown",
   "id": "036bfa18-6a22-4297-95ef-4cff55697c01",
   "metadata": {
    "tags": []
   },
   "source": [
    "### unbalanced testing"
   ]
  },
  {
   "cell_type": "markdown",
   "id": "0f2ac8fb-09d8-46db-a18c-546ef156a247",
   "metadata": {
    "tags": []
   },
   "source": [
    "#### RandomForestClassifier unbalanced"
   ]
  },
  {
   "cell_type": "markdown",
   "id": "c5b95782-81ec-4055-ae12-5213a5ea6f37",
   "metadata": {},
   "source": [
    "Выбор лучших гиперпараметров в вложенных циклах"
   ]
  },
  {
   "cell_type": "code",
   "execution_count": 34,
   "id": "ab514a0e-4748-48e7-b9f6-5613cb560550",
   "metadata": {},
   "outputs": [
    {
     "name": "stdout",
     "output_type": "stream",
     "text": [
      "RandomForestClassifier unbalanced\n",
      "Точность попадания по классам: 0.8535\n",
      "Precision 0.7394957983193278\n",
      "Recall 0.43243243243243246\n",
      "F1 0.5457364341085271\n",
      "ROC-AUC: 0.8515973600719364\n",
      "Лучший гиперпараметр max_depth: 13\n",
      "Лучший гиперпараметр n_estimators: 150\n",
      "CPU times: total: 1min 19s\n",
      "Wall time: 1min 19s\n"
     ]
    }
   ],
   "source": [
    "%%time\n",
    "# выбор гиперпараметров\n",
    "\n",
    "f1_score_rfc_best = 0\n",
    "for depth_rfc in range(1, 15, 1):\n",
    "    for est_rfc in range(50, 250, 50):\n",
    "        model_rfc = RandomForestClassifier(random_state=RND_STATE, \n",
    "                                                      max_depth=depth_rfc, \n",
    "                                                      n_estimators=est_rfc)\n",
    "        model_rfc.fit(features_train, target_train)\n",
    "\n",
    "        predictions_rfc = pd.Series(model_rfc.predict(features_valid))\n",
    "        result_rfc = accuracy_score(target_valid, predictions_rfc)\n",
    "        precision_score_rfc = precision_score(target_valid, predictions_rfc)\n",
    "        recall_score_rfc = recall_score(target_valid, predictions_rfc)\n",
    "        f1_score_rfc = f1_score(target_valid, predictions_rfc)\n",
    "    \n",
    "        probabilities_rfc = model_rfc.predict_proba(features_valid)\n",
    "        probabilities_one_rfc = probabilities_rfc[:, 1]\n",
    "        auc_roc_rfc = roc_auc_score(target_valid, probabilities_one_rfc) \n",
    "\n",
    "        if f1_score_rfc > f1_score_rfc_best:\n",
    "            f1_score_rfc_best = f1_score_rfc\n",
    "            best_depth_rfc = depth_rfc\n",
    "            best_est_rfc = est_rfc\n",
    "print('RandomForestClassifier unbalanced')\n",
    "print('Точность попадания по классам:', result_rfc)\n",
    "print('Precision', precision_score_rfc)\n",
    "print('Recall', recall_score_rfc)\n",
    "print('F1', f1_score_rfc)\n",
    "print('ROC-AUC:', auc_roc_rfc)\n",
    "print('Лучший гиперпараметр max_depth:', best_depth_rfc)\n",
    "print('Лучший гиперпараметр n_estimators:', best_est_rfc)"
   ]
  },
  {
   "cell_type": "markdown",
   "id": "4c29308e-52ac-420f-937b-27128a7f64ab",
   "metadata": {
    "tags": []
   },
   "source": [
    "#### LogisicRegression unbalanced"
   ]
  },
  {
   "cell_type": "code",
   "execution_count": 35,
   "id": "8c08ca90-2b9b-437d-9538-b1e15c2f4590",
   "metadata": {},
   "outputs": [
    {
     "name": "stdout",
     "output_type": "stream",
     "text": [
      "LogisicRegression unbalanced\n",
      "Точность попадания по классам: 0.812\n",
      "Precision 0.624\n",
      "Recall 0.19164619164619165\n",
      "F1 0.2932330827067669\n",
      "ROC-AUC: 0.750337394405191\n",
      "CPU times: total: 31.2 ms\n",
      "Wall time: 37 ms\n"
     ]
    }
   ],
   "source": [
    "%%time\n",
    "\n",
    "f1_score_lr_best = 0\n",
    "\n",
    "model_lr = LogisticRegression(random_state=RND_STATE, solver='liblinear')\n",
    "model_lr.fit(features_train, target_train)\n",
    "\n",
    "predictions_lr = pd.Series(model_lr.predict(features_valid))\n",
    "result_lr = accuracy_score(target_valid, predictions_lr)\n",
    "precision_score_lr = precision_score(target_valid, predictions_lr)\n",
    "recall_score_lr = recall_score(target_valid, predictions_lr)\n",
    "f1_score_lr = f1_score(target_valid, predictions_lr)\n",
    "    \n",
    "probabilities_lr = model_lr.predict_proba(features_valid)\n",
    "probabilities_one_lr = probabilities_lr[:, 1]\n",
    "auc_roc_lr = roc_auc_score(target_valid, probabilities_one_lr) \n",
    "\n",
    "if f1_score_lr > f1_score_lr_best:\n",
    "    f1_score_lr_best = f1_score_lr\n",
    "\n",
    "print('LogisicRegression unbalanced')\n",
    "print('Точность попадания по классам:', result_lr)\n",
    "print('Precision', precision_score_lr)\n",
    "print('Recall', recall_score_lr)\n",
    "print('F1', f1_score_lr)\n",
    "print('ROC-AUC:', auc_roc_lr)"
   ]
  },
  {
   "cell_type": "markdown",
   "id": "9d0db41b-ada5-44b1-8ed5-96ede575b964",
   "metadata": {
    "tags": []
   },
   "source": [
    "### class_weight='balanced' models"
   ]
  },
  {
   "cell_type": "markdown",
   "id": "a28e5b05-7b5b-436b-a4b8-b5a2b8f972d1",
   "metadata": {},
   "source": [
    "#### RandomForestClassifier class_weight_balanced"
   ]
  },
  {
   "cell_type": "code",
   "execution_count": 36,
   "id": "885daadf-1e45-48a8-b7c3-13854ea1cb9b",
   "metadata": {},
   "outputs": [
    {
     "name": "stdout",
     "output_type": "stream",
     "text": [
      "RandomForestClassifier class_weight\n",
      "Точность попадания по классам: 0.845\n",
      "Precision 0.6725978647686833\n",
      "Recall 0.4643734643734644\n",
      "F1 0.5494186046511628\n",
      "ROC-AUC: 0.8486467977993402\n",
      "Лучший гиперпараметр max_depth: 8\n",
      "Лучший гиперпараметр n_estimators: 200\n",
      "CPU times: total: 1min 20s\n",
      "Wall time: 1min 20s\n"
     ]
    }
   ],
   "source": [
    "%%time\n",
    "# выбор гиперпараметров\n",
    "\n",
    "f1_score_rfc_cw_best = 0\n",
    "for depth_rfc_cw in range(1, 15, 1):\n",
    "    for est_rfc_cw in range(50, 250, 50):\n",
    "        model_rfc_cw = RandomForestClassifier(class_weight='balanced',\n",
    "                                                      random_state=RND_STATE, \n",
    "                                                      max_depth=depth_rfc_cw, \n",
    "                                                      n_estimators=est_rfc_cw)\n",
    "        model_rfc_cw.fit(features_train, target_train)\n",
    "\n",
    "        predictions_rfc_cw = pd.Series(model_rfc_cw.predict(features_valid))\n",
    "        result_rfc_cw = accuracy_score(target_valid, predictions_rfc_cw)\n",
    "        precision_score_rfc_cw = precision_score(target_valid, predictions_rfc_cw)\n",
    "        recall_score_rfc_cw = recall_score(target_valid, predictions_rfc_cw)\n",
    "        f1_score_rfc_cw = f1_score(target_valid, predictions_rfc_cw)\n",
    "    \n",
    "        probabilities_rfc_cw = model_rfc_cw.predict_proba(features_valid)\n",
    "        probabilities_one_rfc_cw = probabilities_rfc_cw[:, 1]\n",
    "        auc_roc_rfc_cw = roc_auc_score(target_valid, probabilities_one_rfc_cw) \n",
    "\n",
    "        if f1_score_rfc_cw > f1_score_rfc_cw_best:\n",
    "            f1_score_rfc_cw_best = f1_score_rfc_cw\n",
    "            best_depth_rfc_cw = depth_rfc_cw\n",
    "            best_est_rfc_cw = est_rfc_cw\n",
    "print('RandomForestClassifier class_weight')\n",
    "print('Точность попадания по классам:', result_rfc_cw)\n",
    "print('Precision', precision_score_rfc_cw)\n",
    "print('Recall', recall_score_rfc_cw)\n",
    "print('F1', f1_score_rfc_cw)\n",
    "print('ROC-AUC:', auc_roc_rfc_cw)\n",
    "print('Лучший гиперпараметр max_depth:', best_depth_rfc_cw)\n",
    "print('Лучший гиперпараметр n_estimators:', best_est_rfc_cw)"
   ]
  },
  {
   "cell_type": "markdown",
   "id": "a0730c66-1800-4089-8b7a-a4f97f019a84",
   "metadata": {},
   "source": [
    "#### LogisicRegression_cw_balanced"
   ]
  },
  {
   "cell_type": "code",
   "execution_count": 37,
   "id": "b3b4ff15-cc69-41fa-9c49-c6084ae830f7",
   "metadata": {},
   "outputs": [
    {
     "name": "stdout",
     "output_type": "stream",
     "text": [
      "LogisicRegression class_weight\n",
      "Точность попадания по классам: 0.699\n",
      "Precision 0.36877523553162855\n",
      "Recall 0.6732186732186732\n",
      "F1 0.4765217391304348\n",
      "ROC-AUC: 0.7541146693689067\n",
      "CPU times: total: 31.2 ms\n",
      "Wall time: 40.8 ms\n"
     ]
    }
   ],
   "source": [
    "%%time\n",
    "\n",
    "f1_score_lr_cw_best = 0\n",
    "\n",
    "model_lr_cw = LogisticRegression(class_weight='balanced', random_state=RND_STATE, solver='liblinear')\n",
    "model_lr_cw.fit(features_train, target_train)\n",
    "\n",
    "predictions_lr_cw = pd.Series(model_lr_cw.predict(features_valid))\n",
    "result_lr_cw = accuracy_score(target_valid, predictions_lr_cw)\n",
    "precision_score_lr_cw = precision_score(target_valid, predictions_lr_cw)\n",
    "recall_score_lr_cw = recall_score(target_valid, predictions_lr_cw)\n",
    "f1_score_lr_cw = f1_score(target_valid, predictions_lr_cw)\n",
    "    \n",
    "probabilities_lr_cw = model_lr_cw.predict_proba(features_valid)\n",
    "probabilities_one_lr_cw = probabilities_lr_cw[:, 1]\n",
    "auc_roc_lr_cw = roc_auc_score(target_valid, probabilities_one_lr_cw) \n",
    "\n",
    "if f1_score_lr_cw > f1_score_lr_cw_best:\n",
    "    f1_score_lr_cw_best = f1_score_lr_cw\n",
    "\n",
    "print('LogisicRegression class_weight')\n",
    "print('Точность попадания по классам:', result_lr_cw)\n",
    "print('Precision', precision_score_lr_cw)\n",
    "print('Recall', recall_score_lr_cw)\n",
    "print('F1', f1_score_lr_cw)\n",
    "print('ROC-AUC:', auc_roc_lr_cw)"
   ]
  },
  {
   "cell_type": "markdown",
   "id": "24f7168b-ae3e-4ff1-8b78-5f3f220e010d",
   "metadata": {
    "tags": []
   },
   "source": [
    "### Upsampled models"
   ]
  },
  {
   "cell_type": "markdown",
   "id": "442e6714-09b7-4c1d-b21f-090bbe675ce0",
   "metadata": {},
   "source": [
    "#### RandomForestClassifier upsampled"
   ]
  },
  {
   "cell_type": "code",
   "execution_count": 38,
   "id": "3b7a68de-af3a-4c02-83bf-3efaa9c15a11",
   "metadata": {},
   "outputs": [
    {
     "name": "stdout",
     "output_type": "stream",
     "text": [
      "RandomForestClassifier upsampled\n",
      "Точность попадания по классам: 0.8175\n",
      "Precision 0.5460526315789473\n",
      "Recall 0.6117936117936118\n",
      "F1 0.5770567786790266\n",
      "ROC-AUC: 0.8408053662290951\n",
      "Лучший гиперпараметр max_depth: 9\n",
      "Лучший гиперпараметр n_estimators: 100\n",
      "CPU times: total: 2min 7s\n",
      "Wall time: 2min 8s\n"
     ]
    }
   ],
   "source": [
    "%%time\n",
    "# выбор гиперпараметров\n",
    "\n",
    "f1_score_rfc_up_best = 0\n",
    "for depth_rfc_up in range(1, 15, 1):\n",
    "    for est_rfc_up in range(50, 250, 50):\n",
    "        model_rfc_up = RandomForestClassifier(random_state=RND_STATE, \n",
    "                                                      max_depth=depth_rfc_up, \n",
    "                                                      n_estimators=est_rfc_up)\n",
    "        model_rfc_up.fit(features_upsampled, target_upsampled)\n",
    "\n",
    "        predictions_rfc_up = pd.Series(model_rfc_up.predict(features_valid))\n",
    "        result_rfc_up = accuracy_score(target_valid, predictions_rfc_up)\n",
    "        precision_score_rfc_up = precision_score(target_valid, predictions_rfc_up)\n",
    "        recall_score_rfc_up = recall_score(target_valid, predictions_rfc_up)\n",
    "        f1_score_rfc_up = f1_score(target_valid, predictions_rfc_up)\n",
    "    \n",
    "        probabilities_rfc_up = model_rfc_up.predict_proba(features_valid)\n",
    "        probabilities_one_rfc_up = probabilities_rfc_up[:, 1]\n",
    "        auc_roc_rfc_up = roc_auc_score(target_valid, probabilities_one_rfc_up) \n",
    "\n",
    "        if f1_score_rfc_up > f1_score_rfc_up_best:\n",
    "            f1_score_rfc_up_best = f1_score_rfc_up\n",
    "            best_depth_rfc_up = depth_rfc_up\n",
    "            best_est_rfc_up = est_rfc_up\n",
    "print('RandomForestClassifier upsampled')\n",
    "print('Точность попадания по классам:', result_rfc_up)\n",
    "print('Precision', precision_score_rfc_up)\n",
    "print('Recall', recall_score_rfc_up)\n",
    "print('F1', f1_score_rfc_up)\n",
    "print('ROC-AUC:', auc_roc_rfc_up)\n",
    "print('Лучший гиперпараметр max_depth:', best_depth_rfc_up)\n",
    "print('Лучший гиперпараметр n_estimators:', best_est_rfc_up)"
   ]
  },
  {
   "cell_type": "markdown",
   "id": "bd09466a-a9c8-47ba-9738-dbd35b8b5e4f",
   "metadata": {},
   "source": [
    "#### LogisticRegression upsampled"
   ]
  },
  {
   "cell_type": "code",
   "execution_count": 39,
   "id": "f58897b0-383d-4aa7-bdee-85ce961c175e",
   "metadata": {},
   "outputs": [
    {
     "name": "stdout",
     "output_type": "stream",
     "text": [
      "LogisicRegression upsampled\n",
      "Точность попадания по классам: 0.7\n",
      "Precision 0.3683492496589359\n",
      "Recall 0.6633906633906634\n",
      "F1 0.47368421052631576\n",
      "ROC-AUC: 0.7504854623498691\n",
      "CPU times: total: 31.2 ms\n",
      "Wall time: 40.1 ms\n"
     ]
    }
   ],
   "source": [
    "%%time\n",
    "\n",
    "f1_score_lr_up_best = 0\n",
    "\n",
    "model_lr_up = LogisticRegression(random_state=RND_STATE, solver='liblinear')\n",
    "model_lr_up.fit(features_upsampled, target_upsampled)\n",
    "\n",
    "predictions_lr_up = pd.Series(model_lr_up.predict(features_valid))\n",
    "result_lr_up = accuracy_score(target_valid, predictions_lr_up)\n",
    "precision_score_lr_up = precision_score(target_valid, predictions_lr_up)\n",
    "recall_score_lr_up = recall_score(target_valid, predictions_lr_up)\n",
    "f1_score_lr_up = f1_score(target_valid, predictions_lr_up)\n",
    "    \n",
    "probabilities_lr_up = model_lr_up.predict_proba(features_valid)\n",
    "probabilities_one_lr_up = probabilities_lr_up[:, 1]\n",
    "auc_roc_lr_up = roc_auc_score(target_valid, probabilities_one_lr_up) \n",
    "\n",
    "if f1_score_lr_up > f1_score_lr_up_best:\n",
    "    f1_score_lr_up_best = f1_score_lr_up\n",
    "\n",
    "print('LogisicRegression upsampled')\n",
    "print('Точность попадания по классам:', result_lr_up)\n",
    "print('Precision', precision_score_lr_up)\n",
    "print('Recall', recall_score_lr_up)\n",
    "print('F1', f1_score_lr_up)\n",
    "print('ROC-AUC:', auc_roc_lr_up)"
   ]
  },
  {
   "cell_type": "markdown",
   "id": "0a3df8da-35b0-46ae-994b-ee48d3ea67c1",
   "metadata": {
    "jp-MarkdownHeadingCollapsed": true
   },
   "source": [
    "### Downsampled models"
   ]
  },
  {
   "cell_type": "markdown",
   "id": "286d3515-59c5-4f59-8eaa-1a62e63ee15b",
   "metadata": {},
   "source": [
    "#### RandomForestClassifier downsampled"
   ]
  },
  {
   "cell_type": "code",
   "execution_count": 40,
   "id": "939891a4-7ad4-497c-9958-7eb48abf7d20",
   "metadata": {},
   "outputs": [
    {
     "name": "stdout",
     "output_type": "stream",
     "text": [
      "RandomForestClassifier downsampled\n",
      "Точность попадания по классам: 0.7695\n",
      "Precision 0.4590909090909091\n",
      "Recall 0.7444717444717445\n",
      "F1 0.5679475164011246\n",
      "ROC-AUC: 0.8446566751651499\n",
      "Лучший гиперпараметр max_depth: 7\n",
      "Лучший гиперпараметр n_estimators: 50\n",
      "CPU times: total: 45.5 s\n",
      "Wall time: 46 s\n"
     ]
    }
   ],
   "source": [
    "%%time\n",
    "# выбор гиперпараметров\n",
    "\n",
    "f1_score_rfc_down_best = 0\n",
    "for depth_rfc_down in range(1, 15, 1):\n",
    "    for est_rfc_down in range(50, 250, 50):\n",
    "        model_rfc_down = RandomForestClassifier(random_state=RND_STATE, \n",
    "                                                      max_depth=depth_rfc_down, \n",
    "                                                      n_estimators=est_rfc_down)\n",
    "        model_rfc_down.fit(features_downsampled, target_downsampled)\n",
    "\n",
    "        predictions_rfc_down = pd.Series(model_rfc_down.predict(features_valid))\n",
    "        result_rfc_down = accuracy_score(target_valid, predictions_rfc_down)\n",
    "        precision_score_rfc_down = precision_score(target_valid, predictions_rfc_down)\n",
    "        recall_score_rfc_down = recall_score(target_valid, predictions_rfc_down)\n",
    "        f1_score_rfc_down = f1_score(target_valid, predictions_rfc_down)\n",
    "    \n",
    "        probabilities_rfc_down = model_rfc_down.predict_proba(features_valid)\n",
    "        probabilities_one_rfc_down = probabilities_rfc_down[:, 1]\n",
    "        auc_roc_rfc_down = roc_auc_score(target_valid, probabilities_one_rfc_down) \n",
    "\n",
    "        if f1_score_rfc_down > f1_score_rfc_down_best:\n",
    "            f1_score_rfc_down_best = f1_score_rfc_down\n",
    "            best_depth_rfc_down = depth_rfc_down\n",
    "            best_est_rfc_down = est_rfc_down\n",
    "print('RandomForestClassifier downsampled')\n",
    "print('Точность попадания по классам:', result_rfc_down)\n",
    "print('Precision', precision_score_rfc_down)\n",
    "print('Recall', recall_score_rfc_down)\n",
    "print('F1', f1_score_rfc_down)\n",
    "print('ROC-AUC:', auc_roc_rfc_down)\n",
    "print('Лучший гиперпараметр max_depth:', best_depth_rfc_down)\n",
    "print('Лучший гиперпараметр n_estimators:', best_est_rfc_down)"
   ]
  },
  {
   "cell_type": "markdown",
   "id": "9933c682-558e-4288-9dce-befd23e1670b",
   "metadata": {},
   "source": [
    "#### LogisticRegression downsampled"
   ]
  },
  {
   "cell_type": "code",
   "execution_count": 41,
   "id": "9fb50816-ca99-4dde-96a8-f54f03a76f61",
   "metadata": {},
   "outputs": [
    {
     "name": "stdout",
     "output_type": "stream",
     "text": [
      "LogisicRegression downsampled\n",
      "Точность попадания по классам: 0.6995\n",
      "Precision 0.3699731903485255\n",
      "Recall 0.6781326781326781\n",
      "F1 0.4787510841283608\n",
      "ROC-AUC: 0.7524905491007186\n",
      "CPU times: total: 31.2 ms\n",
      "Wall time: 41.4 ms\n"
     ]
    }
   ],
   "source": [
    "%%time\n",
    "\n",
    "f1_score_lr_down_best = 0\n",
    "\n",
    "model_lr_down = LogisticRegression(random_state=RND_STATE, solver='liblinear')\n",
    "model_lr_down.fit(features_downsampled, target_downsampled)\n",
    "\n",
    "predictions_lr_down = pd.Series(model_lr_down.predict(features_valid))\n",
    "result_lr_down = accuracy_score(target_valid, predictions_lr_down)\n",
    "precision_score_lr_down = precision_score(target_valid, predictions_lr_down)\n",
    "recall_score_lr_down = recall_score(target_valid, predictions_lr_down)\n",
    "f1_score_lr_down = f1_score(target_valid, predictions_lr_down)\n",
    "    \n",
    "probabilities_lr_down = model_lr_down.predict_proba(features_valid)\n",
    "probabilities_one_lr_down = probabilities_lr_down[:, 1]\n",
    "auc_roc_lr_down = roc_auc_score(target_valid, probabilities_one_lr_down) \n",
    "\n",
    "if f1_score_lr_down > f1_score_lr_down_best:\n",
    "    f1_score_lr_down_best = f1_score_lr_down\n",
    "\n",
    "print('LogisicRegression downsampled')\n",
    "print('Точность попадания по классам:', result_lr_down)\n",
    "print('Precision', precision_score_lr_down)\n",
    "print('Recall', recall_score_lr_down)\n",
    "print('F1', f1_score_lr_down)\n",
    "print('ROC-AUC:', auc_roc_lr_down)"
   ]
  },
  {
   "cell_type": "markdown",
   "id": "60c56faa-e9b8-489d-afcc-c9c77c72af06",
   "metadata": {},
   "source": [
    "### Best Model"
   ]
  },
  {
   "cell_type": "markdown",
   "id": "3ebe4fd3-7f09-4462-a7b4-223fd98377a5",
   "metadata": {},
   "source": [
    "Лучшей моделью оказалась нижеозначенная модель, обученная на увеличенной обучающей выборке.\n",
    "Тестирование будем проводить на несбалансированной тестовой выборке с нижеследующими параметрами."
   ]
  },
  {
   "cell_type": "markdown",
   "id": "ea6dd0f1-4565-44fd-b0f8-626615850be2",
   "metadata": {},
   "source": [
    "RandomForestClassifier upsampled\n",
    "\n",
    "- RandomForestClassifier upsampled\n",
    "- Точность попадания по классам: 0.8175\n",
    "- Precision 0.5460526315789473\n",
    "- Recall 0.6117936117936118\n",
    "- F1 0.5770567786790266\n",
    "- ROC-AUC: 0.8408053662290951\n",
    "- Лучший гиперпараметр max_depth: 9\n",
    "- Лучший гиперпараметр n_estimators: 100"
   ]
  },
  {
   "cell_type": "code",
   "execution_count": 42,
   "id": "41fda067-fa08-4fe9-b626-15e4d39f7e46",
   "metadata": {},
   "outputs": [
    {
     "name": "stdout",
     "output_type": "stream",
     "text": [
      "RandomForestClassifier upsampled\n",
      "Точность попадания по классам: 0.8355\n",
      "Precision 0.5766990291262136\n",
      "Recall 0.7279411764705882\n",
      "F1 0.6435536294691224\n",
      "ROC-AUC: 0.8707554315696128\n",
      "CPU times: total: 2.19 s\n",
      "Wall time: 2.2 s\n"
     ]
    }
   ],
   "source": [
    "%%time\n",
    "# выбор гиперпараметров\n",
    "\n",
    "f1_score_final_best = 0\n",
    "\n",
    "model_final = RandomForestClassifier(random_state=RND_STATE, max_depth=9, n_estimators=100)\n",
    "model_final.fit(features_upsampled, target_upsampled)\n",
    "predictions_final = pd.Series(model_final.predict(features_test))\n",
    "result_final = accuracy_score(target_test, predictions_final)\n",
    "precision_score_final = precision_score(target_test, predictions_final)\n",
    "recall_score_final = recall_score(target_test, predictions_final)\n",
    "f1_score_final = f1_score(target_test, predictions_final)\n",
    "\n",
    "probabilities_final = model_final.predict_proba(features_test)\n",
    "probabilities_one_final = probabilities_final[:, 1]\n",
    "auc_roc_final = roc_auc_score(target_test, probabilities_one_final) \n",
    "\n",
    "if f1_score_final > f1_score_final_best:\n",
    "    f1_score_final_best = f1_score_final\n",
    "\n",
    "print('RandomForestClassifier upsampled')\n",
    "print('Точность попадания по классам:', result_final)\n",
    "print('Precision', precision_score_final)\n",
    "print('Recall', recall_score_final)\n",
    "print('F1', f1_score_final)\n",
    "print('ROC-AUC:', auc_roc_final)"
   ]
  },
  {
   "cell_type": "markdown",
   "id": "9ee9c349-20c8-4251-ad1e-f8238a1b411a",
   "metadata": {},
   "source": [
    "### Best Model Матрица ошибок"
   ]
  },
  {
   "cell_type": "code",
   "execution_count": 43,
   "id": "22795077-99b9-43f8-8dee-82e3e7676d74",
   "metadata": {},
   "outputs": [
    {
     "data": {
      "image/png": "[encoded data removed]",
      "text/plain": [
       "<Figure size 800x400 with 2 Axes>"
      ]
     },
     "metadata": {},
     "output_type": "display_data"
    }
   ],
   "source": [
    "cf_matrix_rfc = confusion_matrix(target_test, predictions_final)\n",
    "plt.figure(figsize=(10, 5), dpi=80)\n",
    "\n",
    "ax = sns.heatmap(cf_matrix_rfc, annot=True, cmap='Blues', fmt='g')\n",
    "\n",
    "ax.set_xlabel('\\nPredicted Values')\n",
    "ax.set_ylabel('Actual Values ');\n",
    "\n",
    "ax.xaxis.set_ticklabels(['False','True'])\n",
    "ax.yaxis.set_ticklabels(['False','True'])\n",
    "\n",
    "plt.show()"
   ]
  },
  {
   "cell_type": "markdown",
   "id": "3f285f5e-3836-44a9-a302-ea29a3afef2a",
   "metadata": {},
   "source": [
    "### Best Model ROC-curve"
   ]
  },
  {
   "cell_type": "markdown",
   "id": "88c0db00-4a9c-48cd-b4d2-31421602b96b",
   "metadata": {},
   "source": [
    "Чтобы выявить, как сильно наша модель отличается от случайной, посчитаем площадь под ROC-кривой — AUC-ROC (от англ. Area Under Curve ROC, «площадь под ROC-кривой»). Это новая метрика качества, которая изменяется от 0 до 1. AUC-ROC случайной модели равна 0.5."
   ]
  },
  {
   "cell_type": "code",
   "execution_count": 44,
   "id": "5173ffef-1c49-41ea-afbf-78a16131d7e9",
   "metadata": {},
   "outputs": [
    {
     "data": {
      "image/png": "[encoded data removed]",
      "text/plain": [
       "<Figure size 640x480 with 1 Axes>"
      ]
     },
     "metadata": {},
     "output_type": "display_data"
    }
   ],
   "source": [
    "# using parametres from RandomForestClassifier upsampling\n",
    "\n",
    "probabilities_final = model_final.predict_proba(features_test)\n",
    "probabilities_one_final = probabilities_final[:, 1]\n",
    "\n",
    "fpr, tpr, thresholds = roc_curve(target_test, probabilities_one_final)\n",
    "plt.figure()\n",
    "\n",
    "# <график>\n",
    "\n",
    "# ROC-кривая случайной модели (выглядит как прямая)\n",
    "plt.plot([0, 1], [0, 1], linestyle='--')\n",
    "\n",
    "#plt.figure(figsize=(15, 5))\n",
    "plt.plot(fpr, tpr)\n",
    "plt.xlabel('False Positive Rate') # < применим функции plt.xlabel() и plt.ylabel(), чтобы\n",
    "#   подписать оси \"False Positive Rate\" и \"True Positive Rate\" >\n",
    "plt.ylabel('True Positive Rate')\n",
    "plt.ylim([0.0, 1.0]) # < применим функции plt.xlim() и plt.ylim(), чтобы\n",
    "#   установить границы осей от 0 до 1 >\n",
    "plt.xlim([0.0, 1.0])\n",
    "plt.title('ROC-кривая RandomForestClassifier upsampling') # < добавим к графику заголовок функцией plt.title() >\n",
    "plt.show()"
   ]
  },
  {
   "cell_type": "markdown",
   "id": "136687f9-56f3-4362-a6c1-d4bcc7c03d02",
   "metadata": {
    "tags": []
   },
   "source": [
    "## Итоговый вывод:\n",
    "В работе над проектом освоены полезные техники увеличения и уменьшения выборок, качественного кодирования и масштабирования, обучения моделей.\n",
    "Важно отметить что качественное обучение моделей удается достичь блаодаря предотвращению утечки данных в процессе подготовки фичей и обучения моделей.\n",
    "Наилучшей моделью оказалась модель Лес Решающих Деревьев с гиперпарамтрами глубина 9, n_estimators 100 на апсемплированной выборке.\n",
    "Удалось достичь  F1 0.64, что говорит о хорошем соотношении точности и полноты предсказаний. Матрица ошибок помогает понять способность модели к качественному предсказанию истинно положительных ответов."
   ]
  },
  {
   "cell_type": "code",
   "execution_count": 45,
   "id": "19622dc2-d760-46ae-8067-836f29f0b0f3",
   "metadata": {},
   "outputs": [],
   "source": [
    "rfc_model = RandomForestClassifier(random_state=33)\n",
    "rfc_params = {'n_estimators' : list(range(50, 250, 50)), 'max_depth' : range(1, 15, 1)}\n",
    "scoring = {\"f1_score\" : 'f1', 'roc_auc_score' : 'roc_auc'}\n",
    "rfc_random_cv = RandomizedSearchCV(rfc_model, rfc_params, cv=4, refit='f1_score', scoring=scoring)\n",
    "rfc_random_cv.fit(features_test, target_test)\n",
    "metrics_columns = [f'mean_test_{x}' for x in scoring]\n",
    "final_metrics = pd.DataFrame(rfc_random_cv.cv_results_)[metrics_columns].iloc[rfc_random_cv.best_index_]"
   ]
  },
  {
   "cell_type": "code",
   "execution_count": 46,
   "id": "54df1c4b-fb67-407d-bebd-091e50331cf0",
   "metadata": {},
   "outputs": [
    {
     "data": {
      "text/plain": [
       "mean_test_f1_score        0.5652341417853487\n",
       "mean_test_roc_auc_score   0.8631453837816533\n",
       "Name: 4, dtype: float64"
      ]
     },
     "execution_count": 46,
     "metadata": {},
     "output_type": "execute_result"
    }
   ],
   "source": [
    "final_metrics"
   ]
  },
  {
   "cell_type": "code",
   "execution_count": 47,
   "id": "fa7295d2-e437-4f66-94c4-8014a9d42523",
   "metadata": {},
   "outputs": [
    {
     "data": {
      "text/plain": [
       "{'n_estimators': 150, 'max_depth': 10}"
      ]
     },
     "execution_count": 47,
     "metadata": {},
     "output_type": "execute_result"
    }
   ],
   "source": [
    "rfc_random_cv.best_params_"
   ]
  }
 ],
 "metadata": {
  "ExecuteTimeLog": [
   {
    "duration": 1565,
    "start_time": "2023-02-06T10:31:51.150Z"
   },
   {
    "duration": 44,
    "start_time": "2023-02-06T10:31:52.717Z"
   },
   {
    "duration": 17,
    "start_time": "2023-02-06T10:31:52.763Z"
   },
   {
    "duration": 7,
    "start_time": "2023-02-06T10:31:52.782Z"
   },
   {
    "duration": 7,
    "start_time": "2023-02-06T10:31:52.791Z"
   },
   {
    "duration": 22,
    "start_time": "2023-02-06T10:31:52.800Z"
   },
   {
    "duration": 13,
    "start_time": "2023-02-06T10:31:52.824Z"
   },
   {
    "duration": 11,
    "start_time": "2023-02-06T10:31:52.839Z"
   },
   {
    "duration": 86,
    "start_time": "2023-02-06T10:31:52.852Z"
   },
   {
    "duration": 4,
    "start_time": "2023-02-06T10:31:52.940Z"
   },
   {
    "duration": 20,
    "start_time": "2023-02-06T10:31:52.945Z"
   },
   {
    "duration": 7,
    "start_time": "2023-02-06T10:31:52.967Z"
   },
   {
    "duration": 12,
    "start_time": "2023-02-06T10:31:52.976Z"
   },
   {
    "duration": 10,
    "start_time": "2023-02-06T10:31:52.991Z"
   },
   {
    "duration": 8,
    "start_time": "2023-02-06T10:31:53.003Z"
   },
   {
    "duration": 788,
    "start_time": "2023-02-06T10:31:53.013Z"
   },
   {
    "duration": 4832,
    "start_time": "2023-02-06T10:31:53.802Z"
   },
   {
    "duration": 4,
    "start_time": "2023-02-06T10:31:58.636Z"
   },
   {
    "duration": 25,
    "start_time": "2023-02-06T10:31:58.642Z"
   },
   {
    "duration": 15,
    "start_time": "2023-02-06T10:31:58.669Z"
   },
   {
    "duration": 38,
    "start_time": "2023-02-06T10:31:58.686Z"
   },
   {
    "duration": 12,
    "start_time": "2023-02-06T10:31:58.727Z"
   },
   {
    "duration": 135,
    "start_time": "2023-02-06T10:31:58.741Z"
   },
   {
    "duration": 15,
    "start_time": "2023-02-06T10:31:58.877Z"
   },
   {
    "duration": 4,
    "start_time": "2023-02-06T10:31:58.894Z"
   },
   {
    "duration": 23,
    "start_time": "2023-02-06T10:31:58.900Z"
   },
   {
    "duration": 9,
    "start_time": "2023-02-06T10:31:58.925Z"
   },
   {
    "duration": 15,
    "start_time": "2023-02-06T10:31:58.936Z"
   },
   {
    "duration": 47,
    "start_time": "2023-02-06T10:31:58.954Z"
   },
   {
    "duration": 10,
    "start_time": "2023-02-06T10:31:59.002Z"
   },
   {
    "duration": 9,
    "start_time": "2023-02-06T10:31:59.014Z"
   },
   {
    "duration": 130,
    "start_time": "2023-02-06T10:31:59.024Z"
   },
   {
    "duration": 0,
    "start_time": "2023-02-06T10:31:59.156Z"
   },
   {
    "duration": 0,
    "start_time": "2023-02-06T10:31:59.158Z"
   },
   {
    "duration": 0,
    "start_time": "2023-02-06T10:31:59.159Z"
   },
   {
    "duration": 0,
    "start_time": "2023-02-06T10:31:59.160Z"
   },
   {
    "duration": 0,
    "start_time": "2023-02-06T10:31:59.161Z"
   },
   {
    "duration": 0,
    "start_time": "2023-02-06T10:31:59.162Z"
   },
   {
    "duration": 0,
    "start_time": "2023-02-06T10:31:59.162Z"
   },
   {
    "duration": 0,
    "start_time": "2023-02-06T10:31:59.163Z"
   },
   {
    "duration": 0,
    "start_time": "2023-02-06T10:31:59.164Z"
   },
   {
    "duration": 0,
    "start_time": "2023-02-06T10:31:59.165Z"
   },
   {
    "duration": 0,
    "start_time": "2023-02-06T10:31:59.167Z"
   },
   {
    "duration": 0,
    "start_time": "2023-02-06T10:31:59.184Z"
   },
   {
    "duration": 0,
    "start_time": "2023-02-06T10:31:59.185Z"
   },
   {
    "duration": 0,
    "start_time": "2023-02-06T10:31:59.187Z"
   },
   {
    "duration": 0,
    "start_time": "2023-02-06T10:31:59.188Z"
   },
   {
    "duration": 0,
    "start_time": "2023-02-06T10:31:59.189Z"
   },
   {
    "duration": 0,
    "start_time": "2023-02-06T10:31:59.190Z"
   },
   {
    "duration": 0,
    "start_time": "2023-02-06T10:31:59.191Z"
   },
   {
    "duration": 0,
    "start_time": "2023-02-06T10:31:59.192Z"
   },
   {
    "duration": 0,
    "start_time": "2023-02-06T10:31:59.193Z"
   },
   {
    "duration": 0,
    "start_time": "2023-02-06T10:31:59.194Z"
   },
   {
    "duration": 0,
    "start_time": "2023-02-06T10:31:59.195Z"
   },
   {
    "duration": 0,
    "start_time": "2023-02-06T10:31:59.197Z"
   },
   {
    "duration": 0,
    "start_time": "2023-02-06T10:31:59.198Z"
   },
   {
    "duration": 0,
    "start_time": "2023-02-06T10:31:59.199Z"
   },
   {
    "duration": 0,
    "start_time": "2023-02-06T10:31:59.200Z"
   },
   {
    "duration": 0,
    "start_time": "2023-02-06T10:31:59.201Z"
   },
   {
    "duration": 0,
    "start_time": "2023-02-06T10:31:59.202Z"
   },
   {
    "duration": 0,
    "start_time": "2023-02-06T10:31:59.204Z"
   },
   {
    "duration": 0,
    "start_time": "2023-02-06T10:31:59.205Z"
   },
   {
    "duration": 8624,
    "start_time": "2023-02-06T10:57:10.635Z"
   },
   {
    "duration": 9,
    "start_time": "2023-02-06T10:57:19.262Z"
   },
   {
    "duration": 21,
    "start_time": "2023-02-06T10:57:32.155Z"
   },
   {
    "duration": 2376,
    "start_time": "2023-02-06T10:57:38.759Z"
   },
   {
    "duration": 1263,
    "start_time": "2023-02-06T10:57:41.138Z"
   },
   {
    "duration": 41,
    "start_time": "2023-02-06T10:57:42.403Z"
   },
   {
    "duration": 14,
    "start_time": "2023-02-06T10:57:42.446Z"
   },
   {
    "duration": 8,
    "start_time": "2023-02-06T10:57:42.462Z"
   },
   {
    "duration": 9,
    "start_time": "2023-02-06T10:57:42.471Z"
   },
   {
    "duration": 19,
    "start_time": "2023-02-06T10:57:42.481Z"
   },
   {
    "duration": 14,
    "start_time": "2023-02-06T10:57:42.502Z"
   },
   {
    "duration": 11,
    "start_time": "2023-02-06T10:57:42.518Z"
   },
   {
    "duration": 86,
    "start_time": "2023-02-06T10:57:42.532Z"
   },
   {
    "duration": 4,
    "start_time": "2023-02-06T10:57:42.620Z"
   },
   {
    "duration": 13,
    "start_time": "2023-02-06T10:57:42.625Z"
   },
   {
    "duration": 7,
    "start_time": "2023-02-06T10:57:42.640Z"
   },
   {
    "duration": 12,
    "start_time": "2023-02-06T10:57:42.649Z"
   },
   {
    "duration": 25,
    "start_time": "2023-02-06T10:57:42.663Z"
   },
   {
    "duration": 12,
    "start_time": "2023-02-06T10:57:42.690Z"
   },
   {
    "duration": 813,
    "start_time": "2023-02-06T10:57:42.704Z"
   },
   {
    "duration": 4955,
    "start_time": "2023-02-06T10:57:43.519Z"
   },
   {
    "duration": 4,
    "start_time": "2023-02-06T10:57:48.476Z"
   },
   {
    "duration": 771,
    "start_time": "2023-02-06T10:57:48.482Z"
   },
   {
    "duration": 125,
    "start_time": "2023-02-06T10:57:49.255Z"
   },
   {
    "duration": 26,
    "start_time": "2023-02-06T10:57:49.382Z"
   },
   {
    "duration": 11,
    "start_time": "2023-02-06T10:57:49.410Z"
   },
   {
    "duration": 133,
    "start_time": "2023-02-06T10:57:49.423Z"
   },
   {
    "duration": 12,
    "start_time": "2023-02-06T10:57:49.557Z"
   },
   {
    "duration": 15,
    "start_time": "2023-02-06T10:57:49.571Z"
   },
   {
    "duration": 27,
    "start_time": "2023-02-06T10:57:49.588Z"
   },
   {
    "duration": 12,
    "start_time": "2023-02-06T10:57:49.619Z"
   },
   {
    "duration": 11,
    "start_time": "2023-02-06T10:57:49.633Z"
   },
   {
    "duration": 19,
    "start_time": "2023-02-06T10:57:49.645Z"
   },
   {
    "duration": 20,
    "start_time": "2023-02-06T10:57:49.666Z"
   },
   {
    "duration": 6,
    "start_time": "2023-02-06T10:57:49.687Z"
   },
   {
    "duration": 65,
    "start_time": "2023-02-06T10:57:49.695Z"
   },
   {
    "duration": 46,
    "start_time": "2023-02-06T10:57:49.763Z"
   },
   {
    "duration": 30,
    "start_time": "2023-02-06T10:57:49.812Z"
   },
   {
    "duration": 4,
    "start_time": "2023-02-06T10:57:49.844Z"
   },
   {
    "duration": 33,
    "start_time": "2023-02-06T10:57:49.851Z"
   },
   {
    "duration": 5,
    "start_time": "2023-02-06T10:57:49.887Z"
   },
   {
    "duration": 100,
    "start_time": "2023-02-06T10:57:49.896Z"
   },
   {
    "duration": 40,
    "start_time": "2023-02-06T10:57:49.998Z"
   },
   {
    "duration": 56,
    "start_time": "2023-02-06T10:57:50.040Z"
   },
   {
    "duration": 4,
    "start_time": "2023-02-06T10:57:50.097Z"
   },
   {
    "duration": 34,
    "start_time": "2023-02-06T10:57:50.103Z"
   },
   {
    "duration": 23,
    "start_time": "2023-02-06T10:57:50.139Z"
   },
   {
    "duration": 23,
    "start_time": "2023-02-06T10:57:50.184Z"
   },
   {
    "duration": 1530,
    "start_time": "2023-02-06T10:57:50.209Z"
   },
   {
    "duration": 7032,
    "start_time": "2023-02-06T10:57:51.741Z"
   },
   {
    "duration": 2803,
    "start_time": "2023-02-06T10:57:58.774Z"
   },
   {
    "duration": 2288,
    "start_time": "2023-02-06T10:58:01.584Z"
   },
   {
    "duration": 504,
    "start_time": "2023-02-06T10:58:03.874Z"
   },
   {
    "duration": 79,
    "start_time": "2023-02-06T10:58:04.381Z"
   },
   {
    "duration": 928,
    "start_time": "2023-02-06T10:58:04.461Z"
   },
   {
    "duration": 58,
    "start_time": "2023-02-06T10:58:05.391Z"
   },
   {
    "duration": 35,
    "start_time": "2023-02-06T10:58:05.451Z"
   },
   {
    "duration": 297,
    "start_time": "2023-02-06T10:58:05.488Z"
   },
   {
    "duration": 199,
    "start_time": "2023-02-06T10:58:05.788Z"
   },
   {
    "duration": 109,
    "start_time": "2023-02-06T10:58:05.990Z"
   },
   {
    "duration": 19,
    "start_time": "2023-02-06T10:58:06.101Z"
   },
   {
    "duration": 2301,
    "start_time": "2023-02-06T10:58:06.122Z"
   },
   {
    "duration": 269,
    "start_time": "2023-02-06T10:58:08.424Z"
   },
   {
    "duration": 277,
    "start_time": "2023-02-06T10:58:08.695Z"
   },
   {
    "duration": 10,
    "start_time": "2023-02-06T10:58:08.974Z"
   },
   {
    "duration": 11,
    "start_time": "2023-02-06T10:58:08.985Z"
   },
   {
    "duration": 1515,
    "start_time": "2023-02-08T09:39:29.811Z"
   },
   {
    "duration": 0,
    "start_time": "2023-02-08T09:39:31.328Z"
   },
   {
    "duration": 0,
    "start_time": "2023-02-08T09:39:31.329Z"
   },
   {
    "duration": 0,
    "start_time": "2023-02-08T09:39:31.331Z"
   },
   {
    "duration": 0,
    "start_time": "2023-02-08T09:39:31.332Z"
   },
   {
    "duration": 0,
    "start_time": "2023-02-08T09:39:31.344Z"
   },
   {
    "duration": 0,
    "start_time": "2023-02-08T09:39:31.344Z"
   },
   {
    "duration": 0,
    "start_time": "2023-02-08T09:39:31.345Z"
   },
   {
    "duration": 0,
    "start_time": "2023-02-08T09:39:31.346Z"
   },
   {
    "duration": 0,
    "start_time": "2023-02-08T09:39:31.347Z"
   },
   {
    "duration": 0,
    "start_time": "2023-02-08T09:39:31.348Z"
   },
   {
    "duration": 0,
    "start_time": "2023-02-08T09:39:31.349Z"
   },
   {
    "duration": 0,
    "start_time": "2023-02-08T09:39:31.350Z"
   },
   {
    "duration": 0,
    "start_time": "2023-02-08T09:39:31.351Z"
   },
   {
    "duration": 0,
    "start_time": "2023-02-08T09:39:31.352Z"
   },
   {
    "duration": 0,
    "start_time": "2023-02-08T09:39:31.353Z"
   },
   {
    "duration": 0,
    "start_time": "2023-02-08T09:39:31.353Z"
   },
   {
    "duration": 0,
    "start_time": "2023-02-08T09:39:31.354Z"
   },
   {
    "duration": 0,
    "start_time": "2023-02-08T09:39:31.355Z"
   },
   {
    "duration": 0,
    "start_time": "2023-02-08T09:39:31.356Z"
   },
   {
    "duration": 0,
    "start_time": "2023-02-08T09:39:31.357Z"
   },
   {
    "duration": 0,
    "start_time": "2023-02-08T09:39:31.357Z"
   },
   {
    "duration": 0,
    "start_time": "2023-02-08T09:39:31.358Z"
   },
   {
    "duration": 0,
    "start_time": "2023-02-08T09:39:31.359Z"
   },
   {
    "duration": 0,
    "start_time": "2023-02-08T09:39:31.360Z"
   },
   {
    "duration": 0,
    "start_time": "2023-02-08T09:39:31.361Z"
   },
   {
    "duration": 0,
    "start_time": "2023-02-08T09:39:31.362Z"
   },
   {
    "duration": 0,
    "start_time": "2023-02-08T09:39:31.363Z"
   },
   {
    "duration": 0,
    "start_time": "2023-02-08T09:39:31.364Z"
   },
   {
    "duration": 0,
    "start_time": "2023-02-08T09:39:31.364Z"
   },
   {
    "duration": 0,
    "start_time": "2023-02-08T09:39:31.365Z"
   },
   {
    "duration": 0,
    "start_time": "2023-02-08T09:39:31.366Z"
   },
   {
    "duration": 0,
    "start_time": "2023-02-08T09:39:31.367Z"
   },
   {
    "duration": 0,
    "start_time": "2023-02-08T09:39:31.368Z"
   },
   {
    "duration": 0,
    "start_time": "2023-02-08T09:39:31.369Z"
   },
   {
    "duration": 0,
    "start_time": "2023-02-08T09:39:31.370Z"
   },
   {
    "duration": 0,
    "start_time": "2023-02-08T09:39:31.371Z"
   },
   {
    "duration": 0,
    "start_time": "2023-02-08T09:39:31.373Z"
   },
   {
    "duration": 0,
    "start_time": "2023-02-08T09:39:31.373Z"
   },
   {
    "duration": 1,
    "start_time": "2023-02-08T09:39:31.374Z"
   },
   {
    "duration": 0,
    "start_time": "2023-02-08T09:39:31.375Z"
   },
   {
    "duration": 0,
    "start_time": "2023-02-08T09:39:31.377Z"
   },
   {
    "duration": 0,
    "start_time": "2023-02-08T09:39:31.377Z"
   },
   {
    "duration": 0,
    "start_time": "2023-02-08T09:39:31.378Z"
   },
   {
    "duration": 6525,
    "start_time": "2023-02-08T09:44:39.373Z"
   },
   {
    "duration": 1181,
    "start_time": "2023-02-08T09:44:45.900Z"
   },
   {
    "duration": 2,
    "start_time": "2023-02-08T09:44:47.083Z"
   },
   {
    "duration": 46,
    "start_time": "2023-02-08T09:44:47.088Z"
   },
   {
    "duration": 60,
    "start_time": "2023-02-08T09:44:47.136Z"
   },
   {
    "duration": 3,
    "start_time": "2023-02-08T09:44:47.197Z"
   },
   {
    "duration": 10,
    "start_time": "2023-02-08T09:44:47.201Z"
   },
   {
    "duration": 13,
    "start_time": "2023-02-08T09:44:47.212Z"
   },
   {
    "duration": 74,
    "start_time": "2023-02-08T09:44:47.226Z"
   },
   {
    "duration": 3,
    "start_time": "2023-02-08T09:44:47.302Z"
   },
   {
    "duration": 11,
    "start_time": "2023-02-08T09:44:47.306Z"
   },
   {
    "duration": 25,
    "start_time": "2023-02-08T09:44:47.319Z"
   },
   {
    "duration": 13,
    "start_time": "2023-02-08T09:44:47.346Z"
   },
   {
    "duration": 5,
    "start_time": "2023-02-08T09:44:47.361Z"
   },
   {
    "duration": 11,
    "start_time": "2023-02-08T09:44:47.368Z"
   },
   {
    "duration": 7,
    "start_time": "2023-02-08T09:44:47.380Z"
   },
   {
    "duration": 646,
    "start_time": "2023-02-08T09:44:47.388Z"
   },
   {
    "duration": 4262,
    "start_time": "2023-02-08T09:44:48.036Z"
   },
   {
    "duration": 6,
    "start_time": "2023-02-08T09:44:52.299Z"
   },
   {
    "duration": 25,
    "start_time": "2023-02-08T09:44:52.306Z"
   },
   {
    "duration": 18,
    "start_time": "2023-02-08T09:44:52.333Z"
   },
   {
    "duration": 143,
    "start_time": "2023-02-08T09:44:52.353Z"
   },
   {
    "duration": 785,
    "start_time": "2023-02-08T09:44:52.498Z"
   },
   {
    "duration": 105,
    "start_time": "2023-02-08T09:44:53.285Z"
   },
   {
    "duration": 13,
    "start_time": "2023-02-08T09:44:53.391Z"
   },
   {
    "duration": 112,
    "start_time": "2023-02-08T09:44:53.405Z"
   },
   {
    "duration": 6,
    "start_time": "2023-02-08T09:44:53.520Z"
   },
   {
    "duration": 22,
    "start_time": "2023-02-08T09:44:53.529Z"
   },
   {
    "duration": 45,
    "start_time": "2023-02-08T09:44:53.552Z"
   },
   {
    "duration": 15,
    "start_time": "2023-02-08T09:44:53.598Z"
   },
   {
    "duration": 17,
    "start_time": "2023-02-08T09:44:53.615Z"
   },
   {
    "duration": 29,
    "start_time": "2023-02-08T09:44:53.634Z"
   },
   {
    "duration": 17,
    "start_time": "2023-02-08T09:44:53.665Z"
   },
   {
    "duration": 16,
    "start_time": "2023-02-08T09:44:53.684Z"
   },
   {
    "duration": 12,
    "start_time": "2023-02-08T09:44:53.702Z"
   },
   {
    "duration": 15,
    "start_time": "2023-02-08T09:44:53.716Z"
   },
   {
    "duration": 35689,
    "start_time": "2023-02-08T09:44:53.744Z"
   },
   {
    "duration": 118,
    "start_time": "2023-02-08T09:45:29.435Z"
   },
   {
    "duration": 35413,
    "start_time": "2023-02-08T09:45:29.645Z"
   },
   {
    "duration": 188,
    "start_time": "2023-02-08T09:46:05.060Z"
   },
   {
    "duration": 51800,
    "start_time": "2023-02-08T09:46:05.253Z"
   },
   {
    "duration": 190,
    "start_time": "2023-02-08T09:46:57.055Z"
   },
   {
    "duration": 23167,
    "start_time": "2023-02-08T09:46:57.248Z"
   },
   {
    "duration": 128,
    "start_time": "2023-02-08T09:47:20.416Z"
   },
   {
    "duration": 872,
    "start_time": "2023-02-08T09:47:20.547Z"
   },
   {
    "duration": 16,
    "start_time": "2023-02-08T10:00:26.916Z"
   },
   {
    "duration": 7366,
    "start_time": "2023-02-09T10:46:39.253Z"
   },
   {
    "duration": 1328,
    "start_time": "2023-02-09T10:46:46.621Z"
   },
   {
    "duration": 4,
    "start_time": "2023-02-09T10:46:47.952Z"
   },
   {
    "duration": 95,
    "start_time": "2023-02-09T10:46:47.958Z"
   },
   {
    "duration": 69,
    "start_time": "2023-02-09T10:46:48.055Z"
   },
   {
    "duration": 3,
    "start_time": "2023-02-09T10:46:48.126Z"
   },
   {
    "duration": 7,
    "start_time": "2023-02-09T10:46:48.131Z"
   },
   {
    "duration": 9,
    "start_time": "2023-02-09T10:46:48.139Z"
   },
   {
    "duration": 80,
    "start_time": "2023-02-09T10:46:48.150Z"
   },
   {
    "duration": 4,
    "start_time": "2023-02-09T10:46:48.232Z"
   },
   {
    "duration": 14,
    "start_time": "2023-02-09T10:46:48.238Z"
   },
   {
    "duration": 6,
    "start_time": "2023-02-09T10:46:48.254Z"
   },
   {
    "duration": 11,
    "start_time": "2023-02-09T10:46:48.261Z"
   },
   {
    "duration": 29,
    "start_time": "2023-02-09T10:46:48.275Z"
   },
   {
    "duration": 13,
    "start_time": "2023-02-09T10:46:48.306Z"
   },
   {
    "duration": 32,
    "start_time": "2023-02-09T10:46:48.321Z"
   },
   {
    "duration": 758,
    "start_time": "2023-02-09T10:46:48.354Z"
   },
   {
    "duration": 4752,
    "start_time": "2023-02-09T10:46:49.113Z"
   },
   {
    "duration": 6,
    "start_time": "2023-02-09T10:46:53.867Z"
   },
   {
    "duration": 13,
    "start_time": "2023-02-09T10:46:53.874Z"
   },
   {
    "duration": 11,
    "start_time": "2023-02-09T10:46:53.889Z"
   },
   {
    "duration": 22,
    "start_time": "2023-02-09T10:46:53.902Z"
   },
   {
    "duration": 27,
    "start_time": "2023-02-09T10:46:53.926Z"
   },
   {
    "duration": 31,
    "start_time": "2023-02-09T10:46:53.955Z"
   },
   {
    "duration": 27,
    "start_time": "2023-02-09T10:46:53.988Z"
   },
   {
    "duration": 28,
    "start_time": "2023-02-09T10:46:54.017Z"
   },
   {
    "duration": 23,
    "start_time": "2023-02-09T10:46:54.047Z"
   },
   {
    "duration": 156,
    "start_time": "2023-02-09T10:46:54.073Z"
   },
   {
    "duration": 659,
    "start_time": "2023-02-09T10:46:54.231Z"
   },
   {
    "duration": 123,
    "start_time": "2023-02-09T10:46:54.894Z"
   },
   {
    "duration": 12,
    "start_time": "2023-02-09T10:46:55.019Z"
   },
   {
    "duration": 131,
    "start_time": "2023-02-09T10:46:55.032Z"
   },
   {
    "duration": 41088,
    "start_time": "2023-02-09T10:46:55.165Z"
   },
   {
    "duration": 250,
    "start_time": "2023-02-09T10:47:36.255Z"
   },
   {
    "duration": 42518,
    "start_time": "2023-02-09T10:47:36.508Z"
   },
   {
    "duration": 167,
    "start_time": "2023-02-09T10:48:19.028Z"
   },
   {
    "duration": 60297,
    "start_time": "2023-02-09T10:48:19.200Z"
   },
   {
    "duration": 96,
    "start_time": "2023-02-09T10:49:19.508Z"
   },
   {
    "duration": 25414,
    "start_time": "2023-02-09T10:49:19.609Z"
   },
   {
    "duration": 171,
    "start_time": "2023-02-09T10:49:45.025Z"
   },
   {
    "duration": 1068,
    "start_time": "2023-02-09T10:49:45.202Z"
   },
   {
    "duration": 387,
    "start_time": "2023-02-09T10:49:46.271Z"
   },
   {
    "duration": 166,
    "start_time": "2023-02-09T10:49:46.660Z"
   },
   {
    "duration": 20,
    "start_time": "2023-02-09T10:57:19.752Z"
   },
   {
    "duration": 141,
    "start_time": "2023-02-09T10:57:52.578Z"
   },
   {
    "duration": 413,
    "start_time": "2023-02-09T10:57:58.205Z"
   }
  ],
  "kernelspec": {
   "display_name": "Python 3 (ipykernel)",
   "language": "python",
   "name": "python3"
  },
  "language_info": {
   "codemirror_mode": {
    "name": "ipython",
    "version": 3
   },
   "file_extension": ".py",
   "mimetype": "text/x-python",
   "name": "python",
   "nbconvert_exporter": "python",
   "pygments_lexer": "ipython3",
   "version": "3.9.16"
  },
  "toc": {
   "base_numbering": 1,
   "nav_menu": {},
   "number_sections": true,
   "sideBar": true,
   "skip_h1_title": true,
   "title_cell": "Table of Contents",
   "title_sidebar": "Contents",
   "toc_cell": false,
   "toc_position": {},
   "toc_section_display": true,
   "toc_window_display": false
  },
  "toc-showcode": false,
  "toc-showmarkdowntxt": false,
  "widgets": {
   "application/vnd.jupyter.widget-state+json": {
    "state": {},
    "version_major": 2,
    "version_minor": 0
   }
  }
 },
 "nbformat": 4,
 "nbformat_minor": 5
}
